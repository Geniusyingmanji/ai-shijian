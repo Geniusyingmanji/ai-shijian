{
 "cells": [
  {
   "cell_type": "code",
   "execution_count": 4,
   "id": "033aac0e",
   "metadata": {},
   "outputs": [],
   "source": [
    "import pandas as pd\n",
    "import numpy as np\n",
    "import matplotlib.pyplot as plt\n",
    "import seaborn as sns\n"
   ]
  },
  {
   "cell_type": "code",
   "execution_count": 112,
   "id": "07b09721",
   "metadata": {},
   "outputs": [],
   "source": [
    "calendar=pd.read_csv('./data/calendar.csv.gz')"
   ]
  },
  {
   "cell_type": "code",
   "execution_count": 113,
   "id": "8def6596",
   "metadata": {},
   "outputs": [
    {
     "data": {
      "text/html": [
       "<div>\n",
       "<style scoped>\n",
       "    .dataframe tbody tr th:only-of-type {\n",
       "        vertical-align: middle;\n",
       "    }\n",
       "\n",
       "    .dataframe tbody tr th {\n",
       "        vertical-align: top;\n",
       "    }\n",
       "\n",
       "    .dataframe thead th {\n",
       "        text-align: right;\n",
       "    }\n",
       "</style>\n",
       "<table border=\"1\" class=\"dataframe\">\n",
       "  <thead>\n",
       "    <tr style=\"text-align: right;\">\n",
       "      <th></th>\n",
       "      <th>listing_id</th>\n",
       "      <th>date</th>\n",
       "      <th>available</th>\n",
       "      <th>price</th>\n",
       "    </tr>\n",
       "  </thead>\n",
       "  <tbody>\n",
       "    <tr>\n",
       "      <th>0</th>\n",
       "      <td>8207551</td>\n",
       "      <td>2018-04-07</td>\n",
       "      <td>f</td>\n",
       "      <td>NaN</td>\n",
       "    </tr>\n",
       "    <tr>\n",
       "      <th>1</th>\n",
       "      <td>8207551</td>\n",
       "      <td>2018-04-06</td>\n",
       "      <td>f</td>\n",
       "      <td>NaN</td>\n",
       "    </tr>\n",
       "    <tr>\n",
       "      <th>2</th>\n",
       "      <td>8207551</td>\n",
       "      <td>2018-04-05</td>\n",
       "      <td>f</td>\n",
       "      <td>NaN</td>\n",
       "    </tr>\n",
       "    <tr>\n",
       "      <th>3</th>\n",
       "      <td>8207551</td>\n",
       "      <td>2018-02-09</td>\n",
       "      <td>f</td>\n",
       "      <td>NaN</td>\n",
       "    </tr>\n",
       "    <tr>\n",
       "      <th>4</th>\n",
       "      <td>8207551</td>\n",
       "      <td>2018-02-08</td>\n",
       "      <td>f</td>\n",
       "      <td>NaN</td>\n",
       "    </tr>\n",
       "  </tbody>\n",
       "</table>\n",
       "</div>"
      ],
      "text/plain": [
       "   listing_id        date available price\n",
       "0     8207551  2018-04-07         f   NaN\n",
       "1     8207551  2018-04-06         f   NaN\n",
       "2     8207551  2018-04-05         f   NaN\n",
       "3     8207551  2018-02-09         f   NaN\n",
       "4     8207551  2018-02-08         f   NaN"
      ]
     },
     "execution_count": 113,
     "metadata": {},
     "output_type": "execute_result"
    }
   ],
   "source": [
    "calendar.head()"
   ]
  },
  {
   "cell_type": "code",
   "execution_count": 114,
   "id": "b228e4fb",
   "metadata": {},
   "outputs": [
    {
     "data": {
      "text/plain": [
       "(6443345, 4)"
      ]
     },
     "execution_count": 114,
     "metadata": {},
     "output_type": "execute_result"
    }
   ],
   "source": [
    "calendar.shape"
   ]
  },
  {
   "cell_type": "code",
   "execution_count": 115,
   "id": "1c3c738d",
   "metadata": {},
   "outputs": [
    {
     "data": {
      "text/plain": [
       "('2017-04-07', '2018-04-07')"
      ]
     },
     "execution_count": 115,
     "metadata": {},
     "output_type": "execute_result"
    }
   ],
   "source": [
    "calendar.date.min(),calendar.date.max()"
   ]
  },
  {
   "cell_type": "code",
   "execution_count": 116,
   "id": "43b8370c",
   "metadata": {},
   "outputs": [
    {
     "data": {
      "text/plain": [
       "listing_id          0\n",
       "date                0\n",
       "available           0\n",
       "price         3068162\n",
       "dtype: int64"
      ]
     },
     "execution_count": 116,
     "metadata": {},
     "output_type": "execute_result"
    }
   ],
   "source": [
    "calendar.isnull().sum()"
   ]
  },
  {
   "cell_type": "code",
   "execution_count": 117,
   "id": "b6490a2e",
   "metadata": {},
   "outputs": [],
   "source": [
    "calendar=calendar.dropna()"
   ]
  },
  {
   "cell_type": "code",
   "execution_count": 118,
   "id": "f5c842a5",
   "metadata": {},
   "outputs": [
    {
     "data": {
      "text/plain": [
       "(3375183, 4)"
      ]
     },
     "execution_count": 118,
     "metadata": {},
     "output_type": "execute_result"
    }
   ],
   "source": [
    "calendar.shape"
   ]
  },
  {
   "cell_type": "code",
   "execution_count": 119,
   "id": "9f422ca9",
   "metadata": {},
   "outputs": [
    {
     "data": {
      "text/html": [
       "<div>\n",
       "<style scoped>\n",
       "    .dataframe tbody tr th:only-of-type {\n",
       "        vertical-align: middle;\n",
       "    }\n",
       "\n",
       "    .dataframe tbody tr th {\n",
       "        vertical-align: top;\n",
       "    }\n",
       "\n",
       "    .dataframe thead th {\n",
       "        text-align: right;\n",
       "    }\n",
       "</style>\n",
       "<table border=\"1\" class=\"dataframe\">\n",
       "  <thead>\n",
       "    <tr style=\"text-align: right;\">\n",
       "      <th></th>\n",
       "      <th>listing_id</th>\n",
       "      <th>date</th>\n",
       "      <th>available</th>\n",
       "      <th>price</th>\n",
       "    </tr>\n",
       "  </thead>\n",
       "  <tbody>\n",
       "    <tr>\n",
       "      <th>365</th>\n",
       "      <td>14958299</td>\n",
       "      <td>2018-03-25</td>\n",
       "      <td>t</td>\n",
       "      <td>$60.00</td>\n",
       "    </tr>\n",
       "    <tr>\n",
       "      <th>366</th>\n",
       "      <td>14958299</td>\n",
       "      <td>2018-03-24</td>\n",
       "      <td>t</td>\n",
       "      <td>$60.00</td>\n",
       "    </tr>\n",
       "    <tr>\n",
       "      <th>367</th>\n",
       "      <td>14958299</td>\n",
       "      <td>2018-03-23</td>\n",
       "      <td>t</td>\n",
       "      <td>$60.00</td>\n",
       "    </tr>\n",
       "    <tr>\n",
       "      <th>368</th>\n",
       "      <td>14958299</td>\n",
       "      <td>2018-03-22</td>\n",
       "      <td>t</td>\n",
       "      <td>$60.00</td>\n",
       "    </tr>\n",
       "    <tr>\n",
       "      <th>369</th>\n",
       "      <td>14958299</td>\n",
       "      <td>2018-03-21</td>\n",
       "      <td>t</td>\n",
       "      <td>$60.00</td>\n",
       "    </tr>\n",
       "  </tbody>\n",
       "</table>\n",
       "</div>"
      ],
      "text/plain": [
       "     listing_id        date available   price\n",
       "365    14958299  2018-03-25         t  $60.00\n",
       "366    14958299  2018-03-24         t  $60.00\n",
       "367    14958299  2018-03-23         t  $60.00\n",
       "368    14958299  2018-03-22         t  $60.00\n",
       "369    14958299  2018-03-21         t  $60.00"
      ]
     },
     "execution_count": 119,
     "metadata": {},
     "output_type": "execute_result"
    }
   ],
   "source": [
    "calendar.head()"
   ]
  },
  {
   "cell_type": "code",
   "execution_count": 120,
   "id": "624ea3c5",
   "metadata": {},
   "outputs": [],
   "source": [
    "calendar['date']=pd.to_datetime(calendar['date'])"
   ]
  },
  {
   "cell_type": "code",
   "execution_count": 121,
   "id": "4d74b518",
   "metadata": {},
   "outputs": [
    {
     "name": "stdout",
     "output_type": "stream",
     "text": [
      "<class 'pandas.core.frame.DataFrame'>\n",
      "Int64Index: 3375183 entries, 365 to 6443343\n",
      "Data columns (total 4 columns):\n",
      " #   Column      Dtype         \n",
      "---  ------      -----         \n",
      " 0   listing_id  int64         \n",
      " 1   date        datetime64[ns]\n",
      " 2   available   object        \n",
      " 3   price       object        \n",
      "dtypes: datetime64[ns](1), int64(1), object(2)\n",
      "memory usage: 128.8+ MB\n"
     ]
    }
   ],
   "source": [
    "calendar.info()"
   ]
  },
  {
   "cell_type": "code",
   "execution_count": 122,
   "id": "15bbd919",
   "metadata": {},
   "outputs": [
    {
     "name": "stderr",
     "output_type": "stream",
     "text": [
      "/var/folders/x6/g_vzqtmd3qv8911q4dpjqbh40000gn/T/ipykernel_3558/9123352.py:1: FutureWarning: The default value of regex will change from True to False in a future version. In addition, single character regular expressions will *not* be treated as literal strings when regex=True.\n",
      "  calendar['price']=calendar['price'].str.replace('$','')\n"
     ]
    },
    {
     "data": {
      "text/html": [
       "<div>\n",
       "<style scoped>\n",
       "    .dataframe tbody tr th:only-of-type {\n",
       "        vertical-align: middle;\n",
       "    }\n",
       "\n",
       "    .dataframe tbody tr th {\n",
       "        vertical-align: top;\n",
       "    }\n",
       "\n",
       "    .dataframe thead th {\n",
       "        text-align: right;\n",
       "    }\n",
       "</style>\n",
       "<table border=\"1\" class=\"dataframe\">\n",
       "  <thead>\n",
       "    <tr style=\"text-align: right;\">\n",
       "      <th></th>\n",
       "      <th>listing_id</th>\n",
       "      <th>date</th>\n",
       "      <th>available</th>\n",
       "      <th>price</th>\n",
       "    </tr>\n",
       "  </thead>\n",
       "  <tbody>\n",
       "    <tr>\n",
       "      <th>365</th>\n",
       "      <td>14958299</td>\n",
       "      <td>2018-03-25</td>\n",
       "      <td>t</td>\n",
       "      <td>60.00</td>\n",
       "    </tr>\n",
       "    <tr>\n",
       "      <th>366</th>\n",
       "      <td>14958299</td>\n",
       "      <td>2018-03-24</td>\n",
       "      <td>t</td>\n",
       "      <td>60.00</td>\n",
       "    </tr>\n",
       "    <tr>\n",
       "      <th>367</th>\n",
       "      <td>14958299</td>\n",
       "      <td>2018-03-23</td>\n",
       "      <td>t</td>\n",
       "      <td>60.00</td>\n",
       "    </tr>\n",
       "    <tr>\n",
       "      <th>368</th>\n",
       "      <td>14958299</td>\n",
       "      <td>2018-03-22</td>\n",
       "      <td>t</td>\n",
       "      <td>60.00</td>\n",
       "    </tr>\n",
       "    <tr>\n",
       "      <th>369</th>\n",
       "      <td>14958299</td>\n",
       "      <td>2018-03-21</td>\n",
       "      <td>t</td>\n",
       "      <td>60.00</td>\n",
       "    </tr>\n",
       "  </tbody>\n",
       "</table>\n",
       "</div>"
      ],
      "text/plain": [
       "     listing_id       date available  price\n",
       "365    14958299 2018-03-25         t  60.00\n",
       "366    14958299 2018-03-24         t  60.00\n",
       "367    14958299 2018-03-23         t  60.00\n",
       "368    14958299 2018-03-22         t  60.00\n",
       "369    14958299 2018-03-21         t  60.00"
      ]
     },
     "execution_count": 122,
     "metadata": {},
     "output_type": "execute_result"
    }
   ],
   "source": [
    "calendar['price']=calendar['price'].str.replace('$','')\n",
    "calendar['price']=calendar['price'].str.replace(',','')\n",
    "calendar.head()"
   ]
  },
  {
   "cell_type": "code",
   "execution_count": 123,
   "id": "e3146e12",
   "metadata": {},
   "outputs": [
    {
     "name": "stdout",
     "output_type": "stream",
     "text": [
      "<class 'pandas.core.frame.DataFrame'>\n",
      "Int64Index: 3375183 entries, 365 to 6443343\n",
      "Data columns (total 4 columns):\n",
      " #   Column      Dtype         \n",
      "---  ------      -----         \n",
      " 0   listing_id  int64         \n",
      " 1   date        datetime64[ns]\n",
      " 2   available   object        \n",
      " 3   price       object        \n",
      "dtypes: datetime64[ns](1), int64(1), object(2)\n",
      "memory usage: 128.8+ MB\n"
     ]
    }
   ],
   "source": [
    "calendar.info()"
   ]
  },
  {
   "cell_type": "code",
   "execution_count": 124,
   "id": "faa02fc0",
   "metadata": {},
   "outputs": [
    {
     "name": "stdout",
     "output_type": "stream",
     "text": [
      "<class 'pandas.core.frame.DataFrame'>\n",
      "Int64Index: 3375183 entries, 365 to 6443343\n",
      "Data columns (total 4 columns):\n",
      " #   Column      Dtype         \n",
      "---  ------      -----         \n",
      " 0   listing_id  int64         \n",
      " 1   date        datetime64[ns]\n",
      " 2   available   object        \n",
      " 3   price       float64       \n",
      "dtypes: datetime64[ns](1), float64(1), int64(1), object(1)\n",
      "memory usage: 128.8+ MB\n"
     ]
    }
   ],
   "source": [
    "calendar['price']=calendar['price'].astype(float)\n",
    "calendar.info()"
   ]
  },
  {
   "cell_type": "code",
   "execution_count": 125,
   "id": "754ec8c7",
   "metadata": {},
   "outputs": [],
   "source": [
    "mean_of_mouth=calendar.groupby(calendar['date'].dt.strftime('%B'))['price'].mean()"
   ]
  },
  {
   "cell_type": "code",
   "execution_count": 126,
   "id": "a52afbc3",
   "metadata": {},
   "outputs": [
    {
     "data": {
      "text/plain": [
       "<AxesSubplot:ylabel='date'>"
      ]
     },
     "execution_count": 126,
     "metadata": {},
     "output_type": "execute_result"
    },
    {
     "data": {
      "image/png": "[encoded data removed]",
      "text/plain": [
       "<Figure size 1200x800 with 1 Axes>"
      ]
     },
     "metadata": {},
     "output_type": "display_data"
    }
   ],
   "source": [
    "mean_of_mouth.plot(kind='barh',figsize=(12,8))"
   ]
  },
  {
   "cell_type": "code",
   "execution_count": 127,
   "id": "153a92e3",
   "metadata": {},
   "outputs": [
    {
     "data": {
      "text/html": [
       "<div>\n",
       "<style scoped>\n",
       "    .dataframe tbody tr th:only-of-type {\n",
       "        vertical-align: middle;\n",
       "    }\n",
       "\n",
       "    .dataframe tbody tr th {\n",
       "        vertical-align: top;\n",
       "    }\n",
       "\n",
       "    .dataframe thead th {\n",
       "        text-align: right;\n",
       "    }\n",
       "</style>\n",
       "<table border=\"1\" class=\"dataframe\">\n",
       "  <thead>\n",
       "    <tr style=\"text-align: right;\">\n",
       "      <th></th>\n",
       "      <th>listing_id</th>\n",
       "      <th>date</th>\n",
       "      <th>available</th>\n",
       "      <th>price</th>\n",
       "      <th>dayofweek</th>\n",
       "    </tr>\n",
       "  </thead>\n",
       "  <tbody>\n",
       "    <tr>\n",
       "      <th>365</th>\n",
       "      <td>14958299</td>\n",
       "      <td>2018-03-25</td>\n",
       "      <td>t</td>\n",
       "      <td>60.0</td>\n",
       "      <td>Sunday</td>\n",
       "    </tr>\n",
       "    <tr>\n",
       "      <th>366</th>\n",
       "      <td>14958299</td>\n",
       "      <td>2018-03-24</td>\n",
       "      <td>t</td>\n",
       "      <td>60.0</td>\n",
       "      <td>Saturday</td>\n",
       "    </tr>\n",
       "    <tr>\n",
       "      <th>367</th>\n",
       "      <td>14958299</td>\n",
       "      <td>2018-03-23</td>\n",
       "      <td>t</td>\n",
       "      <td>60.0</td>\n",
       "      <td>Friday</td>\n",
       "    </tr>\n",
       "    <tr>\n",
       "      <th>368</th>\n",
       "      <td>14958299</td>\n",
       "      <td>2018-03-22</td>\n",
       "      <td>t</td>\n",
       "      <td>60.0</td>\n",
       "      <td>Thursday</td>\n",
       "    </tr>\n",
       "    <tr>\n",
       "      <th>369</th>\n",
       "      <td>14958299</td>\n",
       "      <td>2018-03-21</td>\n",
       "      <td>t</td>\n",
       "      <td>60.0</td>\n",
       "      <td>Wednesday</td>\n",
       "    </tr>\n",
       "  </tbody>\n",
       "</table>\n",
       "</div>"
      ],
      "text/plain": [
       "     listing_id       date available  price  dayofweek\n",
       "365    14958299 2018-03-25         t   60.0     Sunday\n",
       "366    14958299 2018-03-24         t   60.0   Saturday\n",
       "367    14958299 2018-03-23         t   60.0     Friday\n",
       "368    14958299 2018-03-22         t   60.0   Thursday\n",
       "369    14958299 2018-03-21         t   60.0  Wednesday"
      ]
     },
     "execution_count": 127,
     "metadata": {},
     "output_type": "execute_result"
    }
   ],
   "source": [
    "calendar['dayofweek']=calendar.date.dt.strftime(\"%A\")\n",
    "calendar.head()"
   ]
  },
  {
   "cell_type": "code",
   "execution_count": 128,
   "id": "7a5487c2",
   "metadata": {},
   "outputs": [],
   "source": [
    "cats=['Monday','Tuesday','Wednesday','Thursday','Friday','Saturday','Sunday']"
   ]
  },
  {
   "cell_type": "code",
   "execution_count": 129,
   "id": "901e44bc",
   "metadata": {},
   "outputs": [
    {
     "name": "stderr",
     "output_type": "stream",
     "text": [
      "/var/folders/x6/g_vzqtmd3qv8911q4dpjqbh40000gn/T/ipykernel_3558/4028443008.py:1: FutureWarning: The default value of numeric_only in DataFrameGroupBy.mean is deprecated. In a future version, numeric_only will default to False. Either specify numeric_only or select only columns which should be valid for the function.\n",
      "  calendar.groupby(['dayofweek']).mean()\n"
     ]
    },
    {
     "data": {
      "text/html": [
       "<div>\n",
       "<style scoped>\n",
       "    .dataframe tbody tr th:only-of-type {\n",
       "        vertical-align: middle;\n",
       "    }\n",
       "\n",
       "    .dataframe tbody tr th {\n",
       "        vertical-align: top;\n",
       "    }\n",
       "\n",
       "    .dataframe thead th {\n",
       "        text-align: right;\n",
       "    }\n",
       "</style>\n",
       "<table border=\"1\" class=\"dataframe\">\n",
       "  <thead>\n",
       "    <tr style=\"text-align: right;\">\n",
       "      <th></th>\n",
       "      <th>listing_id</th>\n",
       "      <th>price</th>\n",
       "    </tr>\n",
       "    <tr>\n",
       "      <th>dayofweek</th>\n",
       "      <th></th>\n",
       "      <th></th>\n",
       "    </tr>\n",
       "  </thead>\n",
       "  <tbody>\n",
       "    <tr>\n",
       "      <th>Friday</th>\n",
       "      <td>9.221577e+06</td>\n",
       "      <td>117.198882</td>\n",
       "    </tr>\n",
       "    <tr>\n",
       "      <th>Monday</th>\n",
       "      <td>9.206193e+06</td>\n",
       "      <td>114.649274</td>\n",
       "    </tr>\n",
       "    <tr>\n",
       "      <th>Saturday</th>\n",
       "      <td>9.226245e+06</td>\n",
       "      <td>117.288036</td>\n",
       "    </tr>\n",
       "    <tr>\n",
       "      <th>Sunday</th>\n",
       "      <td>9.220754e+06</td>\n",
       "      <td>114.919700</td>\n",
       "    </tr>\n",
       "    <tr>\n",
       "      <th>Thursday</th>\n",
       "      <td>9.210592e+06</td>\n",
       "      <td>114.482776</td>\n",
       "    </tr>\n",
       "    <tr>\n",
       "      <th>Tuesday</th>\n",
       "      <td>9.195639e+06</td>\n",
       "      <td>114.570030</td>\n",
       "    </tr>\n",
       "    <tr>\n",
       "      <th>Wednesday</th>\n",
       "      <td>9.203787e+06</td>\n",
       "      <td>114.400585</td>\n",
       "    </tr>\n",
       "  </tbody>\n",
       "</table>\n",
       "</div>"
      ],
      "text/plain": [
       "             listing_id       price\n",
       "dayofweek                          \n",
       "Friday     9.221577e+06  117.198882\n",
       "Monday     9.206193e+06  114.649274\n",
       "Saturday   9.226245e+06  117.288036\n",
       "Sunday     9.220754e+06  114.919700\n",
       "Thursday   9.210592e+06  114.482776\n",
       "Tuesday    9.195639e+06  114.570030\n",
       "Wednesday  9.203787e+06  114.400585"
      ]
     },
     "execution_count": 129,
     "metadata": {},
     "output_type": "execute_result"
    }
   ],
   "source": [
    "calendar.groupby(['dayofweek']).mean()"
   ]
  },
  {
   "cell_type": "code",
   "execution_count": 130,
   "id": "573426d6",
   "metadata": {},
   "outputs": [
    {
     "name": "stderr",
     "output_type": "stream",
     "text": [
      "/var/folders/x6/g_vzqtmd3qv8911q4dpjqbh40000gn/T/ipykernel_3558/2223558792.py:1: FutureWarning: The default value of numeric_only in DataFrameGroupBy.mean is deprecated. In a future version, numeric_only will default to False. Either specify numeric_only or select only columns which should be valid for the function.\n",
      "  price_week=calendar.groupby(['dayofweek']).mean().reindex(cats)\n"
     ]
    },
    {
     "data": {
      "text/html": [
       "<div>\n",
       "<style scoped>\n",
       "    .dataframe tbody tr th:only-of-type {\n",
       "        vertical-align: middle;\n",
       "    }\n",
       "\n",
       "    .dataframe tbody tr th {\n",
       "        vertical-align: top;\n",
       "    }\n",
       "\n",
       "    .dataframe thead th {\n",
       "        text-align: right;\n",
       "    }\n",
       "</style>\n",
       "<table border=\"1\" class=\"dataframe\">\n",
       "  <thead>\n",
       "    <tr style=\"text-align: right;\">\n",
       "      <th></th>\n",
       "      <th>listing_id</th>\n",
       "      <th>price</th>\n",
       "    </tr>\n",
       "    <tr>\n",
       "      <th>dayofweek</th>\n",
       "      <th></th>\n",
       "      <th></th>\n",
       "    </tr>\n",
       "  </thead>\n",
       "  <tbody>\n",
       "    <tr>\n",
       "      <th>Monday</th>\n",
       "      <td>9.206193e+06</td>\n",
       "      <td>114.649274</td>\n",
       "    </tr>\n",
       "    <tr>\n",
       "      <th>Tuesday</th>\n",
       "      <td>9.195639e+06</td>\n",
       "      <td>114.570030</td>\n",
       "    </tr>\n",
       "    <tr>\n",
       "      <th>Wednesday</th>\n",
       "      <td>9.203787e+06</td>\n",
       "      <td>114.400585</td>\n",
       "    </tr>\n",
       "    <tr>\n",
       "      <th>Thursday</th>\n",
       "      <td>9.210592e+06</td>\n",
       "      <td>114.482776</td>\n",
       "    </tr>\n",
       "    <tr>\n",
       "      <th>Friday</th>\n",
       "      <td>9.221577e+06</td>\n",
       "      <td>117.198882</td>\n",
       "    </tr>\n",
       "    <tr>\n",
       "      <th>Saturday</th>\n",
       "      <td>9.226245e+06</td>\n",
       "      <td>117.288036</td>\n",
       "    </tr>\n",
       "    <tr>\n",
       "      <th>Sunday</th>\n",
       "      <td>9.220754e+06</td>\n",
       "      <td>114.919700</td>\n",
       "    </tr>\n",
       "  </tbody>\n",
       "</table>\n",
       "</div>"
      ],
      "text/plain": [
       "             listing_id       price\n",
       "dayofweek                          \n",
       "Monday     9.206193e+06  114.649274\n",
       "Tuesday    9.195639e+06  114.570030\n",
       "Wednesday  9.203787e+06  114.400585\n",
       "Thursday   9.210592e+06  114.482776\n",
       "Friday     9.221577e+06  117.198882\n",
       "Saturday   9.226245e+06  117.288036\n",
       "Sunday     9.220754e+06  114.919700"
      ]
     },
     "execution_count": 130,
     "metadata": {},
     "output_type": "execute_result"
    }
   ],
   "source": [
    "price_week=calendar.groupby(['dayofweek']).mean().reindex(cats)\n",
    "price_week"
   ]
  },
  {
   "cell_type": "code",
   "execution_count": 131,
   "id": "8ef5e2ec",
   "metadata": {},
   "outputs": [],
   "source": [
    "price_week.drop('listing_id',axis=1,inplace=True)"
   ]
  },
  {
   "cell_type": "code",
   "execution_count": 132,
   "id": "1ae69064",
   "metadata": {},
   "outputs": [
    {
     "data": {
      "text/plain": [
       "<AxesSubplot:xlabel='dayofweek'>"
      ]
     },
     "execution_count": 132,
     "metadata": {},
     "output_type": "execute_result"
    },
    {
     "data": {
      "image/png": "[encoded data removed]",
      "text/plain": [
       "<Figure size 640x480 with 1 Axes>"
      ]
     },
     "metadata": {},
     "output_type": "display_data"
    }
   ],
   "source": [
    "price_week.plot()"
   ]
  },
  {
   "cell_type": "code",
   "execution_count": 133,
   "id": "43a92fb0",
   "metadata": {},
   "outputs": [
    {
     "data": {
      "text/html": [
       "<div>\n",
       "<style scoped>\n",
       "    .dataframe tbody tr th:only-of-type {\n",
       "        vertical-align: middle;\n",
       "    }\n",
       "\n",
       "    .dataframe tbody tr th {\n",
       "        vertical-align: top;\n",
       "    }\n",
       "\n",
       "    .dataframe thead th {\n",
       "        text-align: right;\n",
       "    }\n",
       "</style>\n",
       "<table border=\"1\" class=\"dataframe\">\n",
       "  <thead>\n",
       "    <tr style=\"text-align: right;\">\n",
       "      <th></th>\n",
       "      <th>listing_id</th>\n",
       "      <th>date</th>\n",
       "      <th>available</th>\n",
       "      <th>price</th>\n",
       "      <th>dayofweek</th>\n",
       "    </tr>\n",
       "  </thead>\n",
       "  <tbody>\n",
       "    <tr>\n",
       "      <th>365</th>\n",
       "      <td>14958299</td>\n",
       "      <td>2018-03-25</td>\n",
       "      <td>t</td>\n",
       "      <td>60.0</td>\n",
       "      <td>Sunday</td>\n",
       "    </tr>\n",
       "    <tr>\n",
       "      <th>366</th>\n",
       "      <td>14958299</td>\n",
       "      <td>2018-03-24</td>\n",
       "      <td>t</td>\n",
       "      <td>60.0</td>\n",
       "      <td>Saturday</td>\n",
       "    </tr>\n",
       "    <tr>\n",
       "      <th>367</th>\n",
       "      <td>14958299</td>\n",
       "      <td>2018-03-23</td>\n",
       "      <td>t</td>\n",
       "      <td>60.0</td>\n",
       "      <td>Friday</td>\n",
       "    </tr>\n",
       "    <tr>\n",
       "      <th>368</th>\n",
       "      <td>14958299</td>\n",
       "      <td>2018-03-22</td>\n",
       "      <td>t</td>\n",
       "      <td>60.0</td>\n",
       "      <td>Thursday</td>\n",
       "    </tr>\n",
       "    <tr>\n",
       "      <th>369</th>\n",
       "      <td>14958299</td>\n",
       "      <td>2018-03-21</td>\n",
       "      <td>t</td>\n",
       "      <td>60.0</td>\n",
       "      <td>Wednesday</td>\n",
       "    </tr>\n",
       "  </tbody>\n",
       "</table>\n",
       "</div>"
      ],
      "text/plain": [
       "     listing_id       date available  price  dayofweek\n",
       "365    14958299 2018-03-25         t   60.0     Sunday\n",
       "366    14958299 2018-03-24         t   60.0   Saturday\n",
       "367    14958299 2018-03-23         t   60.0     Friday\n",
       "368    14958299 2018-03-22         t   60.0   Thursday\n",
       "369    14958299 2018-03-21         t   60.0  Wednesday"
      ]
     },
     "execution_count": 133,
     "metadata": {},
     "output_type": "execute_result"
    }
   ],
   "source": [
    "calendar.head()"
   ]
  },
  {
   "cell_type": "code",
   "execution_count": 134,
   "id": "22e03f4b",
   "metadata": {},
   "outputs": [
    {
     "name": "stderr",
     "output_type": "stream",
     "text": [
      "/var/folders/x6/g_vzqtmd3qv8911q4dpjqbh40000gn/T/ipykernel_3558/2695946493.py:4: FutureWarning: The default value of numeric_only in DataFrameGroupBy.mean is deprecated. In a future version, numeric_only will default to False. Either specify numeric_only or select only columns which should be valid for the function.\n",
      "  price_week=calendar.groupby(['dayofweek']).mean().reindex(cats)\n"
     ]
    },
    {
     "data": {
      "text/plain": [
       "([<matplotlib.axis.XTick at 0x7fa2ebe4a1d0>,\n",
       "  <matplotlib.axis.XTick at 0x7fa2ebe4a1a0>,\n",
       "  <matplotlib.axis.XTick at 0x7fa31713a410>,\n",
       "  <matplotlib.axis.XTick at 0x7fa31713b820>,\n",
       "  <matplotlib.axis.XTick at 0x7fa31713b340>,\n",
       "  <matplotlib.axis.XTick at 0x7fa2d53543a0>,\n",
       "  <matplotlib.axis.XTick at 0x7fa2d5354af0>],\n",
       " [Text(0, 0, 'Mon'),\n",
       "  Text(1, 0, 'Tues'),\n",
       "  Text(2, 0, 'Weds'),\n",
       "  Text(3, 0, 'Thurs'),\n",
       "  Text(4, 0, 'Fri'),\n",
       "  Text(5, 0, 'Sat'),\n",
       "  Text(6, 0, 'Sun')])"
      ]
     },
     "execution_count": 134,
     "metadata": {},
     "output_type": "execute_result"
    },
    {
     "data": {
      "image/png": "[encoded data removed]",
      "text/plain": [
       "<Figure size 640x480 with 1 Axes>"
      ]
     },
     "metadata": {},
     "output_type": "display_data"
    }
   ],
   "source": [
    "calendar['dayofweek']=calendar.date.dt.strftime(\"%A\")\n",
    "cats=['Monday','Tuesday','Wednesday','Thursday','Friday','Saturday','Sunday']\n",
    "price_week=calendar[['dayofweek','price']]\n",
    "price_week=calendar.groupby(['dayofweek']).mean().reindex(cats)\n",
    "price_week.drop('listing_id',axis=1,inplace=True)\n",
    "price_week.plot()\n",
    "ticks=list(range(0,7,1))\n",
    "labels='Mon Tues Weds Thurs Fri Sat Sun'.split(' ')\n",
    "plt.xticks(ticks,labels)"
   ]
  },
  {
   "cell_type": "code",
   "execution_count": 135,
   "id": "724fb1b5",
   "metadata": {},
   "outputs": [
    {
     "name": "stderr",
     "output_type": "stream",
     "text": [
      "/var/folders/x6/g_vzqtmd3qv8911q4dpjqbh40000gn/T/ipykernel_3558/1736432972.py:1: DtypeWarning: Columns (43) have mixed types. Specify dtype option on import or set low_memory=False.\n",
      "  listings=pd.read_csv('./data/listings.csv.gz')\n"
     ]
    }
   ],
   "source": [
    "listings=pd.read_csv('./data/listings.csv.gz')"
   ]
  },
  {
   "cell_type": "code",
   "execution_count": 136,
   "id": "ebff24cb",
   "metadata": {},
   "outputs": [
    {
     "data": {
      "text/html": [
       "<div>\n",
       "<style scoped>\n",
       "    .dataframe tbody tr th:only-of-type {\n",
       "        vertical-align: middle;\n",
       "    }\n",
       "\n",
       "    .dataframe tbody tr th {\n",
       "        vertical-align: top;\n",
       "    }\n",
       "\n",
       "    .dataframe thead th {\n",
       "        text-align: right;\n",
       "    }\n",
       "</style>\n",
       "<table border=\"1\" class=\"dataframe\">\n",
       "  <thead>\n",
       "    <tr style=\"text-align: right;\">\n",
       "      <th></th>\n",
       "      <th>id</th>\n",
       "      <th>listing_url</th>\n",
       "      <th>scrape_id</th>\n",
       "      <th>last_scraped</th>\n",
       "      <th>name</th>\n",
       "      <th>summary</th>\n",
       "      <th>space</th>\n",
       "      <th>description</th>\n",
       "      <th>experiences_offered</th>\n",
       "      <th>neighborhood_overview</th>\n",
       "      <th>...</th>\n",
       "      <th>review_scores_value</th>\n",
       "      <th>requires_license</th>\n",
       "      <th>license</th>\n",
       "      <th>jurisdiction_names</th>\n",
       "      <th>instant_bookable</th>\n",
       "      <th>cancellation_policy</th>\n",
       "      <th>require_guest_profile_picture</th>\n",
       "      <th>require_guest_phone_verification</th>\n",
       "      <th>calculated_host_listings_count</th>\n",
       "      <th>reviews_per_month</th>\n",
       "    </tr>\n",
       "  </thead>\n",
       "  <tbody>\n",
       "    <tr>\n",
       "      <th>0</th>\n",
       "      <td>8207551</td>\n",
       "      <td>https://www.airbnb.com/rooms/8207551</td>\n",
       "      <td>20170407214050</td>\n",
       "      <td>2017-04-08</td>\n",
       "      <td>Room in Sant Antoni huge terrasse</td>\n",
       "      <td>Located between Sant Antoni &amp; Universitat (met...</td>\n",
       "      <td>the apartment is located on the 7th floor and ...</td>\n",
       "      <td>Located between Sant Antoni &amp; Universitat (met...</td>\n",
       "      <td>none</td>\n",
       "      <td>Sant Antoni is a very central neighborhood and...</td>\n",
       "      <td>...</td>\n",
       "      <td>10.0</td>\n",
       "      <td>t</td>\n",
       "      <td>NaN</td>\n",
       "      <td>NaN</td>\n",
       "      <td>f</td>\n",
       "      <td>strict</td>\n",
       "      <td>f</td>\n",
       "      <td>f</td>\n",
       "      <td>2</td>\n",
       "      <td>0.11</td>\n",
       "    </tr>\n",
       "    <tr>\n",
       "      <th>1</th>\n",
       "      <td>14958299</td>\n",
       "      <td>https://www.airbnb.com/rooms/14958299</td>\n",
       "      <td>20170407214050</td>\n",
       "      <td>2017-04-08</td>\n",
       "      <td>Next To Las Ramblas, Unique, Wif1</td>\n",
       "      <td>Brand new apartment, cosy and clean.  Only 5 m...</td>\n",
       "      <td>Fun, bohemian. Real Catalan style Well equippe...</td>\n",
       "      <td>Brand new apartment, cosy and clean.  Only 5 m...</td>\n",
       "      <td>none</td>\n",
       "      <td>NaN</td>\n",
       "      <td>...</td>\n",
       "      <td>8.0</td>\n",
       "      <td>t</td>\n",
       "      <td>NaN</td>\n",
       "      <td>NaN</td>\n",
       "      <td>t</td>\n",
       "      <td>strict</td>\n",
       "      <td>f</td>\n",
       "      <td>f</td>\n",
       "      <td>1</td>\n",
       "      <td>2.26</td>\n",
       "    </tr>\n",
       "    <tr>\n",
       "      <th>2</th>\n",
       "      <td>7766152</td>\n",
       "      <td>https://www.airbnb.com/rooms/7766152</td>\n",
       "      <td>20170407214050</td>\n",
       "      <td>2017-04-08</td>\n",
       "      <td>Sunny whole flat in Raval/Ramblas</td>\n",
       "      <td>Calm, sunny 43sqm flat. Living room w/balcony ...</td>\n",
       "      <td>Very luminous and calm, in a neighborhood than...</td>\n",
       "      <td>Calm, sunny 43sqm flat. Living room w/balcony ...</td>\n",
       "      <td>none</td>\n",
       "      <td>Very central, lively, popular hood. Near the s...</td>\n",
       "      <td>...</td>\n",
       "      <td>9.0</td>\n",
       "      <td>t</td>\n",
       "      <td>NaN</td>\n",
       "      <td>NaN</td>\n",
       "      <td>f</td>\n",
       "      <td>strict</td>\n",
       "      <td>f</td>\n",
       "      <td>f</td>\n",
       "      <td>1</td>\n",
       "      <td>0.40</td>\n",
       "    </tr>\n",
       "    <tr>\n",
       "      <th>3</th>\n",
       "      <td>9237132</td>\n",
       "      <td>https://www.airbnb.com/rooms/9237132</td>\n",
       "      <td>20170407214050</td>\n",
       "      <td>2017-04-08</td>\n",
       "      <td>Apartment in the heart of Barcelona</td>\n",
       "      <td>The apartment is an ideal place for relax afte...</td>\n",
       "      <td>Both rooms include a comfortable double bed wi...</td>\n",
       "      <td>The apartment is an ideal place for relax afte...</td>\n",
       "      <td>none</td>\n",
       "      <td>NaN</td>\n",
       "      <td>...</td>\n",
       "      <td>9.0</td>\n",
       "      <td>t</td>\n",
       "      <td>NaN</td>\n",
       "      <td>NaN</td>\n",
       "      <td>t</td>\n",
       "      <td>flexible</td>\n",
       "      <td>f</td>\n",
       "      <td>f</td>\n",
       "      <td>1</td>\n",
       "      <td>3.17</td>\n",
       "    </tr>\n",
       "    <tr>\n",
       "      <th>4</th>\n",
       "      <td>1406827</td>\n",
       "      <td>https://www.airbnb.com/rooms/1406827</td>\n",
       "      <td>20170407214050</td>\n",
       "      <td>2017-04-08</td>\n",
       "      <td>Centric Bohemian next Ramblas&amp;Macba</td>\n",
       "      <td>Artistic cosy renovated flat 40m2 with balcony...</td>\n",
       "      <td>The apartment is 40m2 and has everything you n...</td>\n",
       "      <td>Artistic cosy renovated flat 40m2 with balcony...</td>\n",
       "      <td>none</td>\n",
       "      <td>Raval is the distric where most of the young a...</td>\n",
       "      <td>...</td>\n",
       "      <td>8.0</td>\n",
       "      <td>t</td>\n",
       "      <td>43212</td>\n",
       "      <td>NaN</td>\n",
       "      <td>t</td>\n",
       "      <td>moderate</td>\n",
       "      <td>f</td>\n",
       "      <td>f</td>\n",
       "      <td>1</td>\n",
       "      <td>5.06</td>\n",
       "    </tr>\n",
       "  </tbody>\n",
       "</table>\n",
       "<p>5 rows × 95 columns</p>\n",
       "</div>"
      ],
      "text/plain": [
       "         id                            listing_url       scrape_id  \\\n",
       "0   8207551   https://www.airbnb.com/rooms/8207551  20170407214050   \n",
       "1  14958299  https://www.airbnb.com/rooms/14958299  20170407214050   \n",
       "2   7766152   https://www.airbnb.com/rooms/7766152  20170407214050   \n",
       "3   9237132   https://www.airbnb.com/rooms/9237132  20170407214050   \n",
       "4   1406827   https://www.airbnb.com/rooms/1406827  20170407214050   \n",
       "\n",
       "  last_scraped                                 name  \\\n",
       "0   2017-04-08    Room in Sant Antoni huge terrasse   \n",
       "1   2017-04-08    Next To Las Ramblas, Unique, Wif1   \n",
       "2   2017-04-08    Sunny whole flat in Raval/Ramblas   \n",
       "3   2017-04-08  Apartment in the heart of Barcelona   \n",
       "4   2017-04-08  Centric Bohemian next Ramblas&Macba   \n",
       "\n",
       "                                             summary  \\\n",
       "0  Located between Sant Antoni & Universitat (met...   \n",
       "1  Brand new apartment, cosy and clean.  Only 5 m...   \n",
       "2  Calm, sunny 43sqm flat. Living room w/balcony ...   \n",
       "3  The apartment is an ideal place for relax afte...   \n",
       "4  Artistic cosy renovated flat 40m2 with balcony...   \n",
       "\n",
       "                                               space  \\\n",
       "0  the apartment is located on the 7th floor and ...   \n",
       "1  Fun, bohemian. Real Catalan style Well equippe...   \n",
       "2  Very luminous and calm, in a neighborhood than...   \n",
       "3  Both rooms include a comfortable double bed wi...   \n",
       "4  The apartment is 40m2 and has everything you n...   \n",
       "\n",
       "                                         description experiences_offered  \\\n",
       "0  Located between Sant Antoni & Universitat (met...                none   \n",
       "1  Brand new apartment, cosy and clean.  Only 5 m...                none   \n",
       "2  Calm, sunny 43sqm flat. Living room w/balcony ...                none   \n",
       "3  The apartment is an ideal place for relax afte...                none   \n",
       "4  Artistic cosy renovated flat 40m2 with balcony...                none   \n",
       "\n",
       "                               neighborhood_overview  ... review_scores_value  \\\n",
       "0  Sant Antoni is a very central neighborhood and...  ...                10.0   \n",
       "1                                                NaN  ...                 8.0   \n",
       "2  Very central, lively, popular hood. Near the s...  ...                 9.0   \n",
       "3                                                NaN  ...                 9.0   \n",
       "4  Raval is the distric where most of the young a...  ...                 8.0   \n",
       "\n",
       "  requires_license license jurisdiction_names instant_bookable  \\\n",
       "0                t     NaN                NaN                f   \n",
       "1                t     NaN                NaN                t   \n",
       "2                t     NaN                NaN                f   \n",
       "3                t     NaN                NaN                t   \n",
       "4                t   43212                NaN                t   \n",
       "\n",
       "  cancellation_policy require_guest_profile_picture  \\\n",
       "0              strict                             f   \n",
       "1              strict                             f   \n",
       "2              strict                             f   \n",
       "3            flexible                             f   \n",
       "4            moderate                             f   \n",
       "\n",
       "  require_guest_phone_verification calculated_host_listings_count  \\\n",
       "0                                f                              2   \n",
       "1                                f                              1   \n",
       "2                                f                              1   \n",
       "3                                f                              1   \n",
       "4                                f                              1   \n",
       "\n",
       "   reviews_per_month  \n",
       "0               0.11  \n",
       "1               2.26  \n",
       "2               0.40  \n",
       "3               3.17  \n",
       "4               5.06  \n",
       "\n",
       "[5 rows x 95 columns]"
      ]
     },
     "execution_count": 136,
     "metadata": {},
     "output_type": "execute_result"
    }
   ],
   "source": [
    "listings.head()"
   ]
  },
  {
   "cell_type": "code",
   "execution_count": 137,
   "id": "1b6efbde",
   "metadata": {},
   "outputs": [
    {
     "data": {
      "text/plain": [
       "(17653, 95)"
      ]
     },
     "execution_count": 137,
     "metadata": {},
     "output_type": "execute_result"
    }
   ],
   "source": [
    "listings.shape"
   ]
  },
  {
   "cell_type": "code",
   "execution_count": 138,
   "id": "f92b0cfc",
   "metadata": {},
   "outputs": [
    {
     "data": {
      "text/plain": [
       "count    14015.000000\n",
       "mean        89.937139\n",
       "std          9.374362\n",
       "min         20.000000\n",
       "25%         86.000000\n",
       "50%         92.000000\n",
       "75%         96.000000\n",
       "max        100.000000\n",
       "Name: review_scores_rating, dtype: float64"
      ]
     },
     "execution_count": 138,
     "metadata": {},
     "output_type": "execute_result"
    }
   ],
   "source": [
    "listings.review_scores_rating.describe()"
   ]
  },
  {
   "cell_type": "code",
   "execution_count": 139,
   "id": "5e456438",
   "metadata": {},
   "outputs": [
    {
     "name": "stderr",
     "output_type": "stream",
     "text": [
      "/var/folders/x6/g_vzqtmd3qv8911q4dpjqbh40000gn/T/ipykernel_3558/1257126038.py:1: FutureWarning: The default value of regex will change from True to False in a future version. In addition, single character regular expressions will *not* be treated as literal strings when regex=True.\n",
      "  listings['price']=listings['price'].str.replace('$','')\n"
     ]
    },
    {
     "data": {
      "text/plain": [
       "count    17653.000000\n",
       "mean        92.092392\n",
       "std        159.911422\n",
       "min          9.000000\n",
       "25%         35.000000\n",
       "50%         62.000000\n",
       "75%        105.000000\n",
       "max       9379.000000\n",
       "Name: price, dtype: float64"
      ]
     },
     "execution_count": 139,
     "metadata": {},
     "output_type": "execute_result"
    }
   ],
   "source": [
    "listings['price']=listings['price'].str.replace('$','')\n",
    "listings['price']=listings['price'].str.replace(',','')\n",
    "listings['price']=listings['price'].astype(float)\n",
    "listings['price'].describe()"
   ]
  },
  {
   "cell_type": "code",
   "execution_count": 140,
   "id": "23771676",
   "metadata": {},
   "outputs": [
    {
     "data": {
      "text/html": [
       "<div>\n",
       "<style scoped>\n",
       "    .dataframe tbody tr th:only-of-type {\n",
       "        vertical-align: middle;\n",
       "    }\n",
       "\n",
       "    .dataframe tbody tr th {\n",
       "        vertical-align: top;\n",
       "    }\n",
       "\n",
       "    .dataframe thead th {\n",
       "        text-align: right;\n",
       "    }\n",
       "</style>\n",
       "<table border=\"1\" class=\"dataframe\">\n",
       "  <thead>\n",
       "    <tr style=\"text-align: right;\">\n",
       "      <th></th>\n",
       "      <th>id</th>\n",
       "      <th>listing_url</th>\n",
       "      <th>scrape_id</th>\n",
       "      <th>last_scraped</th>\n",
       "      <th>name</th>\n",
       "      <th>summary</th>\n",
       "      <th>space</th>\n",
       "      <th>description</th>\n",
       "      <th>experiences_offered</th>\n",
       "      <th>neighborhood_overview</th>\n",
       "      <th>...</th>\n",
       "      <th>review_scores_value</th>\n",
       "      <th>requires_license</th>\n",
       "      <th>license</th>\n",
       "      <th>jurisdiction_names</th>\n",
       "      <th>instant_bookable</th>\n",
       "      <th>cancellation_policy</th>\n",
       "      <th>require_guest_profile_picture</th>\n",
       "      <th>require_guest_phone_verification</th>\n",
       "      <th>calculated_host_listings_count</th>\n",
       "      <th>reviews_per_month</th>\n",
       "    </tr>\n",
       "  </thead>\n",
       "  <tbody>\n",
       "    <tr>\n",
       "      <th>13702</th>\n",
       "      <td>16738878</td>\n",
       "      <td>https://www.airbnb.com/rooms/16738878</td>\n",
       "      <td>20170407214050</td>\n",
       "      <td>2017-04-08</td>\n",
       "      <td>Villa 1904- Modernist Jewel with Impeccable Views</td>\n",
       "      <td>This modernist jewel, designed by famous archi...</td>\n",
       "      <td>Impeccably decorated and filled with remarkabl...</td>\n",
       "      <td>This modernist jewel, designed by famous archi...</td>\n",
       "      <td>none</td>\n",
       "      <td>NaN</td>\n",
       "      <td>...</td>\n",
       "      <td>NaN</td>\n",
       "      <td>t</td>\n",
       "      <td>NaN</td>\n",
       "      <td>NaN</td>\n",
       "      <td>f</td>\n",
       "      <td>super_strict_60</td>\n",
       "      <td>f</td>\n",
       "      <td>f</td>\n",
       "      <td>8</td>\n",
       "      <td>NaN</td>\n",
       "    </tr>\n",
       "    <tr>\n",
       "      <th>10353</th>\n",
       "      <td>13259140</td>\n",
       "      <td>https://www.airbnb.com/rooms/13259140</td>\n",
       "      <td>20170407214050</td>\n",
       "      <td>2017-04-08</td>\n",
       "      <td>Nice double room in flat overlooking Montjuic</td>\n",
       "      <td>Close to Poble Espanyol, CaixaForum, Font Màgi...</td>\n",
       "      <td>NaN</td>\n",
       "      <td>Close to Poble Espanyol, CaixaForum, Font Màgi...</td>\n",
       "      <td>none</td>\n",
       "      <td>NaN</td>\n",
       "      <td>...</td>\n",
       "      <td>9.0</td>\n",
       "      <td>t</td>\n",
       "      <td>NaN</td>\n",
       "      <td>NaN</td>\n",
       "      <td>f</td>\n",
       "      <td>flexible</td>\n",
       "      <td>f</td>\n",
       "      <td>f</td>\n",
       "      <td>1</td>\n",
       "      <td>0.68</td>\n",
       "    </tr>\n",
       "    <tr>\n",
       "      <th>10912</th>\n",
       "      <td>17211611</td>\n",
       "      <td>https://www.airbnb.com/rooms/17211611</td>\n",
       "      <td>20170407214050</td>\n",
       "      <td>2017-04-08</td>\n",
       "      <td>Luxury Motor Yacht in Port Vell</td>\n",
       "      <td>New listing- Professionally crewed motor yacht...</td>\n",
       "      <td>NaN</td>\n",
       "      <td>New listing- Professionally crewed motor yacht...</td>\n",
       "      <td>none</td>\n",
       "      <td>Bordering Gothic and El Born, the vessel is lo...</td>\n",
       "      <td>...</td>\n",
       "      <td>NaN</td>\n",
       "      <td>t</td>\n",
       "      <td>NaN</td>\n",
       "      <td>NaN</td>\n",
       "      <td>f</td>\n",
       "      <td>flexible</td>\n",
       "      <td>f</td>\n",
       "      <td>f</td>\n",
       "      <td>1</td>\n",
       "      <td>NaN</td>\n",
       "    </tr>\n",
       "    <tr>\n",
       "      <th>12100</th>\n",
       "      <td>736098</td>\n",
       "      <td>https://www.airbnb.com/rooms/736098</td>\n",
       "      <td>20170407214050</td>\n",
       "      <td>2017-04-08</td>\n",
       "      <td>Great Discount! Jacuzzi Apartment</td>\n",
       "      <td>NaN</td>\n",
       "      <td>Great Discount. Jacuzzi Appartment at les Cort...</td>\n",
       "      <td>Great Discount. Jacuzzi Appartment at les Cort...</td>\n",
       "      <td>none</td>\n",
       "      <td>NaN</td>\n",
       "      <td>...</td>\n",
       "      <td>10.0</td>\n",
       "      <td>t</td>\n",
       "      <td>NaN</td>\n",
       "      <td>NaN</td>\n",
       "      <td>f</td>\n",
       "      <td>moderate</td>\n",
       "      <td>f</td>\n",
       "      <td>f</td>\n",
       "      <td>1</td>\n",
       "      <td>0.13</td>\n",
       "    </tr>\n",
       "    <tr>\n",
       "      <th>1988</th>\n",
       "      <td>16753970</td>\n",
       "      <td>https://www.airbnb.com/rooms/16753970</td>\n",
       "      <td>20170407214050</td>\n",
       "      <td>2017-04-08</td>\n",
       "      <td>Jewel in Ancient City - Architectural Masterpiece</td>\n",
       "      <td>In the heart of Barcelona's Gothic Quarter, Je...</td>\n",
       "      <td>In the heart of Barcelona's Gothic Quarter, Je...</td>\n",
       "      <td>In the heart of Barcelona's Gothic Quarter, Je...</td>\n",
       "      <td>none</td>\n",
       "      <td>NaN</td>\n",
       "      <td>...</td>\n",
       "      <td>NaN</td>\n",
       "      <td>t</td>\n",
       "      <td>NaN</td>\n",
       "      <td>NaN</td>\n",
       "      <td>f</td>\n",
       "      <td>super_strict_60</td>\n",
       "      <td>f</td>\n",
       "      <td>f</td>\n",
       "      <td>8</td>\n",
       "      <td>NaN</td>\n",
       "    </tr>\n",
       "    <tr>\n",
       "      <th>12965</th>\n",
       "      <td>16754469</td>\n",
       "      <td>https://www.airbnb.com/rooms/16754469</td>\n",
       "      <td>20170407214050</td>\n",
       "      <td>2017-04-08</td>\n",
       "      <td>City Lux - A Spacious 3BR Condo in the City!</td>\n",
       "      <td>This majestic residence, located in one of the...</td>\n",
       "      <td>Upon entering this 3800 square foot residence,...</td>\n",
       "      <td>This majestic residence, located in one of the...</td>\n",
       "      <td>none</td>\n",
       "      <td>NaN</td>\n",
       "      <td>...</td>\n",
       "      <td>NaN</td>\n",
       "      <td>t</td>\n",
       "      <td>NaN</td>\n",
       "      <td>NaN</td>\n",
       "      <td>f</td>\n",
       "      <td>super_strict_60</td>\n",
       "      <td>f</td>\n",
       "      <td>f</td>\n",
       "      <td>8</td>\n",
       "      <td>NaN</td>\n",
       "    </tr>\n",
       "    <tr>\n",
       "      <th>1999</th>\n",
       "      <td>16751496</td>\n",
       "      <td>https://www.airbnb.com/rooms/16751496</td>\n",
       "      <td>20170407214050</td>\n",
       "      <td>2017-04-08</td>\n",
       "      <td>Villa Adriana- Stunning Views of the Mediterra...</td>\n",
       "      <td>Upon arriving at Villa Adriana, guests are swe...</td>\n",
       "      <td>Upon arriving at Villa Adriana, guests are swe...</td>\n",
       "      <td>Upon arriving at Villa Adriana, guests are swe...</td>\n",
       "      <td>none</td>\n",
       "      <td>NaN</td>\n",
       "      <td>...</td>\n",
       "      <td>NaN</td>\n",
       "      <td>t</td>\n",
       "      <td>NaN</td>\n",
       "      <td>NaN</td>\n",
       "      <td>f</td>\n",
       "      <td>super_strict_60</td>\n",
       "      <td>f</td>\n",
       "      <td>f</td>\n",
       "      <td>8</td>\n",
       "      <td>NaN</td>\n",
       "    </tr>\n",
       "    <tr>\n",
       "      <th>12465</th>\n",
       "      <td>17234057</td>\n",
       "      <td>https://www.airbnb.com/rooms/17234057</td>\n",
       "      <td>20170407214050</td>\n",
       "      <td>2017-04-08</td>\n",
       "      <td>Casa Arriba - 4BR with Spectacular Views</td>\n",
       "      <td>Perched high in Barcelona with spectacular vie...</td>\n",
       "      <td>Flooded with light, the great room is expansiv...</td>\n",
       "      <td>Perched high in Barcelona with spectacular vie...</td>\n",
       "      <td>none</td>\n",
       "      <td>NaN</td>\n",
       "      <td>...</td>\n",
       "      <td>NaN</td>\n",
       "      <td>t</td>\n",
       "      <td>NaN</td>\n",
       "      <td>NaN</td>\n",
       "      <td>f</td>\n",
       "      <td>strict</td>\n",
       "      <td>f</td>\n",
       "      <td>f</td>\n",
       "      <td>8</td>\n",
       "      <td>NaN</td>\n",
       "    </tr>\n",
       "    <tr>\n",
       "      <th>13000</th>\n",
       "      <td>3965808</td>\n",
       "      <td>https://www.airbnb.com/rooms/3965808</td>\n",
       "      <td>20170407214050</td>\n",
       "      <td>2017-04-08</td>\n",
       "      <td>Luxury penthouse in Turó Park</td>\n",
       "      <td>Impressive 450sqm penthouse located in the exc...</td>\n",
       "      <td>This 450sqm penthouse takes up the entire 7th ...</td>\n",
       "      <td>Impressive 450sqm penthouse located in the exc...</td>\n",
       "      <td>none</td>\n",
       "      <td>The Turó Park area is one of the most exclusiv...</td>\n",
       "      <td>...</td>\n",
       "      <td>NaN</td>\n",
       "      <td>t</td>\n",
       "      <td>NaN</td>\n",
       "      <td>NaN</td>\n",
       "      <td>f</td>\n",
       "      <td>strict</td>\n",
       "      <td>f</td>\n",
       "      <td>f</td>\n",
       "      <td>1</td>\n",
       "      <td>NaN</td>\n",
       "    </tr>\n",
       "    <tr>\n",
       "      <th>4596</th>\n",
       "      <td>14466637</td>\n",
       "      <td>https://www.airbnb.com/rooms/14466637</td>\n",
       "      <td>20170407214050</td>\n",
       "      <td>2017-04-08</td>\n",
       "      <td>Double room in the centre of Barcelona</td>\n",
       "      <td>With a charming, central location in the heart...</td>\n",
       "      <td>NaN</td>\n",
       "      <td>With a charming, central location in the heart...</td>\n",
       "      <td>none</td>\n",
       "      <td>En el centro de Barcelona, una zona con muchas...</td>\n",
       "      <td>...</td>\n",
       "      <td>9.0</td>\n",
       "      <td>t</td>\n",
       "      <td>NaN</td>\n",
       "      <td>NaN</td>\n",
       "      <td>f</td>\n",
       "      <td>flexible</td>\n",
       "      <td>f</td>\n",
       "      <td>f</td>\n",
       "      <td>1</td>\n",
       "      <td>0.79</td>\n",
       "    </tr>\n",
       "  </tbody>\n",
       "</table>\n",
       "<p>10 rows × 95 columns</p>\n",
       "</div>"
      ],
      "text/plain": [
       "             id                            listing_url       scrape_id  \\\n",
       "13702  16738878  https://www.airbnb.com/rooms/16738878  20170407214050   \n",
       "10353  13259140  https://www.airbnb.com/rooms/13259140  20170407214050   \n",
       "10912  17211611  https://www.airbnb.com/rooms/17211611  20170407214050   \n",
       "12100    736098    https://www.airbnb.com/rooms/736098  20170407214050   \n",
       "1988   16753970  https://www.airbnb.com/rooms/16753970  20170407214050   \n",
       "12965  16754469  https://www.airbnb.com/rooms/16754469  20170407214050   \n",
       "1999   16751496  https://www.airbnb.com/rooms/16751496  20170407214050   \n",
       "12465  17234057  https://www.airbnb.com/rooms/17234057  20170407214050   \n",
       "13000   3965808   https://www.airbnb.com/rooms/3965808  20170407214050   \n",
       "4596   14466637  https://www.airbnb.com/rooms/14466637  20170407214050   \n",
       "\n",
       "      last_scraped                                               name  \\\n",
       "13702   2017-04-08  Villa 1904- Modernist Jewel with Impeccable Views   \n",
       "10353   2017-04-08      Nice double room in flat overlooking Montjuic   \n",
       "10912   2017-04-08                    Luxury Motor Yacht in Port Vell   \n",
       "12100   2017-04-08                  Great Discount! Jacuzzi Apartment   \n",
       "1988    2017-04-08  Jewel in Ancient City - Architectural Masterpiece   \n",
       "12965   2017-04-08       City Lux - A Spacious 3BR Condo in the City!   \n",
       "1999    2017-04-08  Villa Adriana- Stunning Views of the Mediterra...   \n",
       "12465   2017-04-08           Casa Arriba - 4BR with Spectacular Views   \n",
       "13000   2017-04-08                      Luxury penthouse in Turó Park   \n",
       "4596    2017-04-08             Double room in the centre of Barcelona   \n",
       "\n",
       "                                                 summary  \\\n",
       "13702  This modernist jewel, designed by famous archi...   \n",
       "10353  Close to Poble Espanyol, CaixaForum, Font Màgi...   \n",
       "10912  New listing- Professionally crewed motor yacht...   \n",
       "12100                                                NaN   \n",
       "1988   In the heart of Barcelona's Gothic Quarter, Je...   \n",
       "12965  This majestic residence, located in one of the...   \n",
       "1999   Upon arriving at Villa Adriana, guests are swe...   \n",
       "12465  Perched high in Barcelona with spectacular vie...   \n",
       "13000  Impressive 450sqm penthouse located in the exc...   \n",
       "4596   With a charming, central location in the heart...   \n",
       "\n",
       "                                                   space  \\\n",
       "13702  Impeccably decorated and filled with remarkabl...   \n",
       "10353                                                NaN   \n",
       "10912                                                NaN   \n",
       "12100  Great Discount. Jacuzzi Appartment at les Cort...   \n",
       "1988   In the heart of Barcelona's Gothic Quarter, Je...   \n",
       "12965  Upon entering this 3800 square foot residence,...   \n",
       "1999   Upon arriving at Villa Adriana, guests are swe...   \n",
       "12465  Flooded with light, the great room is expansiv...   \n",
       "13000  This 450sqm penthouse takes up the entire 7th ...   \n",
       "4596                                                 NaN   \n",
       "\n",
       "                                             description experiences_offered  \\\n",
       "13702  This modernist jewel, designed by famous archi...                none   \n",
       "10353  Close to Poble Espanyol, CaixaForum, Font Màgi...                none   \n",
       "10912  New listing- Professionally crewed motor yacht...                none   \n",
       "12100  Great Discount. Jacuzzi Appartment at les Cort...                none   \n",
       "1988   In the heart of Barcelona's Gothic Quarter, Je...                none   \n",
       "12965  This majestic residence, located in one of the...                none   \n",
       "1999   Upon arriving at Villa Adriana, guests are swe...                none   \n",
       "12465  Perched high in Barcelona with spectacular vie...                none   \n",
       "13000  Impressive 450sqm penthouse located in the exc...                none   \n",
       "4596   With a charming, central location in the heart...                none   \n",
       "\n",
       "                                   neighborhood_overview  ...  \\\n",
       "13702                                                NaN  ...   \n",
       "10353                                                NaN  ...   \n",
       "10912  Bordering Gothic and El Born, the vessel is lo...  ...   \n",
       "12100                                                NaN  ...   \n",
       "1988                                                 NaN  ...   \n",
       "12965                                                NaN  ...   \n",
       "1999                                                 NaN  ...   \n",
       "12465                                                NaN  ...   \n",
       "13000  The Turó Park area is one of the most exclusiv...  ...   \n",
       "4596   En el centro de Barcelona, una zona con muchas...  ...   \n",
       "\n",
       "      review_scores_value requires_license license jurisdiction_names  \\\n",
       "13702                 NaN                t     NaN                NaN   \n",
       "10353                 9.0                t     NaN                NaN   \n",
       "10912                 NaN                t     NaN                NaN   \n",
       "12100                10.0                t     NaN                NaN   \n",
       "1988                  NaN                t     NaN                NaN   \n",
       "12965                 NaN                t     NaN                NaN   \n",
       "1999                  NaN                t     NaN                NaN   \n",
       "12465                 NaN                t     NaN                NaN   \n",
       "13000                 NaN                t     NaN                NaN   \n",
       "4596                  9.0                t     NaN                NaN   \n",
       "\n",
       "      instant_bookable cancellation_policy require_guest_profile_picture  \\\n",
       "13702                f     super_strict_60                             f   \n",
       "10353                f            flexible                             f   \n",
       "10912                f            flexible                             f   \n",
       "12100                f            moderate                             f   \n",
       "1988                 f     super_strict_60                             f   \n",
       "12965                f     super_strict_60                             f   \n",
       "1999                 f     super_strict_60                             f   \n",
       "12465                f              strict                             f   \n",
       "13000                f              strict                             f   \n",
       "4596                 f            flexible                             f   \n",
       "\n",
       "      require_guest_phone_verification calculated_host_listings_count  \\\n",
       "13702                                f                              8   \n",
       "10353                                f                              1   \n",
       "10912                                f                              1   \n",
       "12100                                f                              1   \n",
       "1988                                 f                              8   \n",
       "12965                                f                              8   \n",
       "1999                                 f                              8   \n",
       "12465                                f                              8   \n",
       "13000                                f                              1   \n",
       "4596                                 f                              1   \n",
       "\n",
       "       reviews_per_month  \n",
       "13702                NaN  \n",
       "10353               0.68  \n",
       "10912                NaN  \n",
       "12100               0.13  \n",
       "1988                 NaN  \n",
       "12965                NaN  \n",
       "1999                 NaN  \n",
       "12465                NaN  \n",
       "13000                NaN  \n",
       "4596                0.79  \n",
       "\n",
       "[10 rows x 95 columns]"
      ]
     },
     "execution_count": 140,
     "metadata": {},
     "output_type": "execute_result"
    }
   ],
   "source": [
    "high_price=listings.sort_values('price',ascending=False)\n",
    "high_price.head(10)"
   ]
  },
  {
   "cell_type": "code",
   "execution_count": 141,
   "id": "85819394",
   "metadata": {},
   "outputs": [
    {
     "data": {
      "text/plain": [
       "<AxesSubplot:>"
      ]
     },
     "execution_count": 141,
     "metadata": {},
     "output_type": "execute_result"
    },
    {
     "data": {
      "image/png": "[encoded data removed]",
      "text/plain": [
       "<Figure size 640x480 with 1 Axes>"
      ]
     },
     "metadata": {},
     "output_type": "display_data"
    }
   ],
   "source": [
    "listings.loc[(listings['price']<=600) & (listings['price']>0)].price.hist(bins=200)\n"
   ]
  },
  {
   "cell_type": "code",
   "execution_count": 142,
   "id": "f8f0804a",
   "metadata": {},
   "outputs": [
    {
     "data": {
      "text/plain": [
       "<AxesSubplot:xlabel='room_type', ylabel='price'>"
      ]
     },
     "execution_count": 142,
     "metadata": {},
     "output_type": "execute_result"
    },
    {
     "data": {
      "image/png": "[encoded data removed]",
      "text/plain": [
       "<Figure size 1400x1000 with 1 Axes>"
      ]
     },
     "metadata": {},
     "output_type": "display_data"
    }
   ],
   "source": [
    "f,ax=plt.subplots(figsize=(14,10))\n",
    "sns.boxplot(y='price',x='room_type',data=listings.loc[(listings['price']<=600)&(listings['price']>0)])"
   ]
  },
  {
   "cell_type": "code",
   "execution_count": 143,
   "id": "8c566553",
   "metadata": {},
   "outputs": [
    {
     "data": {
      "text/plain": [
       "0    {TV,Internet,\"Wireless Internet\",\"Air conditio...\n",
       "1    {Internet,\"Wireless Internet\",Kitchen,Washer,E...\n",
       "2    {Internet,\"Wireless Internet\",\"Air conditionin...\n",
       "3    {Internet,\"Wireless Internet\",Kitchen,\"Elevato...\n",
       "4    {\"Wireless Internet\",Kitchen,\"Smoking allowed\"...\n",
       "Name: amenities, dtype: object"
      ]
     },
     "execution_count": 143,
     "metadata": {},
     "output_type": "execute_result"
    }
   ],
   "source": [
    "listings.amenities[:5]"
   ]
  },
  {
   "cell_type": "code",
   "execution_count": 144,
   "id": "75d7fb64",
   "metadata": {},
   "outputs": [
    {
     "name": "stderr",
     "output_type": "stream",
     "text": [
      "/var/folders/x6/g_vzqtmd3qv8911q4dpjqbh40000gn/T/ipykernel_3558/1656305320.py:1: FutureWarning: The default value of regex will change from True to False in a future version.\n",
      "  listings.amenities=listings.amenities.str.replace('[{}]','').str.replace('\"','')\n"
     ]
    }
   ],
   "source": [
    "listings.amenities=listings.amenities.str.replace('[{}]','').str.replace('\"','')"
   ]
  },
  {
   "cell_type": "code",
   "execution_count": 145,
   "id": "1f3fa483",
   "metadata": {},
   "outputs": [
    {
     "data": {
      "text/plain": [
       "0    TV,Internet,Wireless Internet,Air conditioning...\n",
       "1    Internet,Wireless Internet,Kitchen,Washer,Esse...\n",
       "2    Internet,Wireless Internet,Air conditioning,Ki...\n",
       "3    Internet,Wireless Internet,Kitchen,Elevator in...\n",
       "4    Wireless Internet,Kitchen,Smoking allowed,Pets...\n",
       "Name: amenities, dtype: object"
      ]
     },
     "execution_count": 145,
     "metadata": {},
     "output_type": "execute_result"
    }
   ],
   "source": [
    "listings.amenities[:5]"
   ]
  },
  {
   "cell_type": "code",
   "execution_count": 146,
   "id": "06546f82",
   "metadata": {},
   "outputs": [
    {
     "data": {
      "text/plain": [
       "0    [TV, Internet, Wireless Internet, Air conditio...\n",
       "1    [Internet, Wireless Internet, Kitchen, Washer,...\n",
       "2    [Internet, Wireless Internet, Air conditioning...\n",
       "3    [Internet, Wireless Internet, Kitchen, Elevato...\n",
       "4    [Wireless Internet, Kitchen, Smoking allowed, ...\n",
       "Name: amenities, dtype: object"
      ]
     },
     "execution_count": 146,
     "metadata": {},
     "output_type": "execute_result"
    }
   ],
   "source": [
    "listings['amenities'].map(lambda amns:amns.split(','))[:5]"
   ]
  },
  {
   "cell_type": "code",
   "execution_count": 147,
   "id": "b078183c",
   "metadata": {},
   "outputs": [
    {
     "data": {
      "text/plain": [
       "array(['TV', 'Internet', 'Wireless Internet', ..., 'Essentials',\n",
       "       'Hangers', 'translation missing: en.hosting_amenity_49'],\n",
       "      dtype='<U42')"
      ]
     },
     "execution_count": 147,
     "metadata": {},
     "output_type": "execute_result"
    }
   ],
   "source": [
    "np.concatenate(listings['amenities'].map(lambda amns:amns.split(',')))"
   ]
  },
  {
   "cell_type": "code",
   "execution_count": 148,
   "id": "dd692470",
   "metadata": {},
   "outputs": [
    {
     "data": {
      "text/plain": [
       "Wireless Internet       16804\n",
       "Kitchen                 15877\n",
       "Essentials              15052\n",
       "Washer                  13669\n",
       "Heating                 13108\n",
       "TV                      11856\n",
       "Elevator in building    10792\n",
       "Hangers                 10761\n",
       "Family/kid friendly     10619\n",
       "Hair dryer              10273\n",
       "dtype: int64"
      ]
     },
     "execution_count": 148,
     "metadata": {},
     "output_type": "execute_result"
    }
   ],
   "source": [
    "pd.Series(np.concatenate(listings['amenities'].map(lambda amns:amns.split(',')))).value_counts().head(10)"
   ]
  },
  {
   "cell_type": "code",
   "execution_count": 149,
   "id": "2b208211",
   "metadata": {},
   "outputs": [
    {
     "data": {
      "text/plain": [
       "<AxesSubplot:>"
      ]
     },
     "execution_count": 149,
     "metadata": {},
     "output_type": "execute_result"
    },
    {
     "data": {
      "image/png": "[encoded data removed]",
      "text/plain": [
       "<Figure size 1400x1000 with 1 Axes>"
      ]
     },
     "metadata": {},
     "output_type": "display_data"
    }
   ],
   "source": [
    "f.ax=plt.subplots(figsize=(14,10))\n",
    "pd.Series(np.concatenate(listings['amenities'].map(lambda amns:amns.split(',')))).value_counts().head(10).plot(kind='bar')"
   ]
  },
  {
   "cell_type": "code",
   "execution_count": 150,
   "id": "8d7720ac",
   "metadata": {},
   "outputs": [],
   "source": [
    "#特征预处理\n",
    "col=['host_listings_count','accommodates','bathrooms','bedrooms','beds',\n",
    "     'price','number_of_reviews','review_scores_rating','review_per_mouth']"
   ]
  },
  {
   "cell_type": "code",
   "execution_count": 151,
   "id": "c26174bc",
   "metadata": {},
   "outputs": [
    {
     "data": {
      "text/plain": [
       "bathrooms  bedrooms\n",
       "0.0        1.0         55\n",
       "           2.0          1\n",
       "           3.0          1\n",
       "0.5        0.0          2\n",
       "           1.0         81\n",
       "                       ..\n",
       "8.0        1.0          5\n",
       "           3.0          1\n",
       "           5.0          1\n",
       "           6.0          1\n",
       "           9.0          3\n",
       "Name: price, Length: 76, dtype: int64"
      ]
     },
     "execution_count": 151,
     "metadata": {},
     "output_type": "execute_result"
    }
   ],
   "source": [
    "listings.loc[(listings['price']<=600)&(listings['price']>0)].groupby(['bathrooms','bedrooms']).count()['price']"
   ]
  },
  {
   "cell_type": "code",
   "execution_count": 152,
   "id": "c94c1051",
   "metadata": {},
   "outputs": [
    {
     "data": {
      "text/html": [
       "<div>\n",
       "<style scoped>\n",
       "    .dataframe tbody tr th:only-of-type {\n",
       "        vertical-align: middle;\n",
       "    }\n",
       "\n",
       "    .dataframe tbody tr th {\n",
       "        vertical-align: top;\n",
       "    }\n",
       "\n",
       "    .dataframe thead th {\n",
       "        text-align: right;\n",
       "    }\n",
       "</style>\n",
       "<table border=\"1\" class=\"dataframe\">\n",
       "  <thead>\n",
       "    <tr style=\"text-align: right;\">\n",
       "      <th></th>\n",
       "      <th>bathrooms</th>\n",
       "      <th>bedrooms</th>\n",
       "      <th>price</th>\n",
       "    </tr>\n",
       "  </thead>\n",
       "  <tbody>\n",
       "    <tr>\n",
       "      <th>0</th>\n",
       "      <td>0.0</td>\n",
       "      <td>1.0</td>\n",
       "      <td>55</td>\n",
       "    </tr>\n",
       "    <tr>\n",
       "      <th>1</th>\n",
       "      <td>0.0</td>\n",
       "      <td>2.0</td>\n",
       "      <td>1</td>\n",
       "    </tr>\n",
       "    <tr>\n",
       "      <th>2</th>\n",
       "      <td>0.0</td>\n",
       "      <td>3.0</td>\n",
       "      <td>1</td>\n",
       "    </tr>\n",
       "    <tr>\n",
       "      <th>3</th>\n",
       "      <td>0.5</td>\n",
       "      <td>0.0</td>\n",
       "      <td>2</td>\n",
       "    </tr>\n",
       "    <tr>\n",
       "      <th>4</th>\n",
       "      <td>0.5</td>\n",
       "      <td>1.0</td>\n",
       "      <td>81</td>\n",
       "    </tr>\n",
       "    <tr>\n",
       "      <th>...</th>\n",
       "      <td>...</td>\n",
       "      <td>...</td>\n",
       "      <td>...</td>\n",
       "    </tr>\n",
       "    <tr>\n",
       "      <th>71</th>\n",
       "      <td>8.0</td>\n",
       "      <td>1.0</td>\n",
       "      <td>5</td>\n",
       "    </tr>\n",
       "    <tr>\n",
       "      <th>72</th>\n",
       "      <td>8.0</td>\n",
       "      <td>3.0</td>\n",
       "      <td>1</td>\n",
       "    </tr>\n",
       "    <tr>\n",
       "      <th>73</th>\n",
       "      <td>8.0</td>\n",
       "      <td>5.0</td>\n",
       "      <td>1</td>\n",
       "    </tr>\n",
       "    <tr>\n",
       "      <th>74</th>\n",
       "      <td>8.0</td>\n",
       "      <td>6.0</td>\n",
       "      <td>1</td>\n",
       "    </tr>\n",
       "    <tr>\n",
       "      <th>75</th>\n",
       "      <td>8.0</td>\n",
       "      <td>9.0</td>\n",
       "      <td>3</td>\n",
       "    </tr>\n",
       "  </tbody>\n",
       "</table>\n",
       "<p>76 rows × 3 columns</p>\n",
       "</div>"
      ],
      "text/plain": [
       "    bathrooms  bedrooms  price\n",
       "0         0.0       1.0     55\n",
       "1         0.0       2.0      1\n",
       "2         0.0       3.0      1\n",
       "3         0.5       0.0      2\n",
       "4         0.5       1.0     81\n",
       "..        ...       ...    ...\n",
       "71        8.0       1.0      5\n",
       "72        8.0       3.0      1\n",
       "73        8.0       5.0      1\n",
       "74        8.0       6.0      1\n",
       "75        8.0       9.0      3\n",
       "\n",
       "[76 rows x 3 columns]"
      ]
     },
     "execution_count": 152,
     "metadata": {},
     "output_type": "execute_result"
    }
   ],
   "source": [
    "listings.loc[(listings['price']<=600)&(listings['price']>0)].groupby(['bathrooms','bedrooms']).count()['price'].reset_index()"
   ]
  },
  {
   "cell_type": "code",
   "execution_count": 153,
   "id": "17635f91",
   "metadata": {},
   "outputs": [
    {
     "name": "stderr",
     "output_type": "stream",
     "text": [
      "/var/folders/x6/g_vzqtmd3qv8911q4dpjqbh40000gn/T/ipykernel_3558/562565114.py:1: FutureWarning: In a future version of pandas all arguments of DataFrame.pivot will be keyword-only.\n",
      "  listings.loc[(listings['price']<=600)&(listings['price']>0)].groupby(['bathrooms','bedrooms']).count()['price'].reset_index().pivot('bathrooms','bedrooms','price')\n"
     ]
    },
    {
     "data": {
      "text/html": [
       "<div>\n",
       "<style scoped>\n",
       "    .dataframe tbody tr th:only-of-type {\n",
       "        vertical-align: middle;\n",
       "    }\n",
       "\n",
       "    .dataframe tbody tr th {\n",
       "        vertical-align: top;\n",
       "    }\n",
       "\n",
       "    .dataframe thead th {\n",
       "        text-align: right;\n",
       "    }\n",
       "</style>\n",
       "<table border=\"1\" class=\"dataframe\">\n",
       "  <thead>\n",
       "    <tr style=\"text-align: right;\">\n",
       "      <th>bedrooms</th>\n",
       "      <th>0.0</th>\n",
       "      <th>1.0</th>\n",
       "      <th>2.0</th>\n",
       "      <th>3.0</th>\n",
       "      <th>4.0</th>\n",
       "      <th>5.0</th>\n",
       "      <th>6.0</th>\n",
       "      <th>7.0</th>\n",
       "      <th>8.0</th>\n",
       "      <th>9.0</th>\n",
       "      <th>10.0</th>\n",
       "    </tr>\n",
       "    <tr>\n",
       "      <th>bathrooms</th>\n",
       "      <th></th>\n",
       "      <th></th>\n",
       "      <th></th>\n",
       "      <th></th>\n",
       "      <th></th>\n",
       "      <th></th>\n",
       "      <th></th>\n",
       "      <th></th>\n",
       "      <th></th>\n",
       "      <th></th>\n",
       "      <th></th>\n",
       "    </tr>\n",
       "  </thead>\n",
       "  <tbody>\n",
       "    <tr>\n",
       "      <th>0.0</th>\n",
       "      <td>NaN</td>\n",
       "      <td>55.0</td>\n",
       "      <td>1.0</td>\n",
       "      <td>1.0</td>\n",
       "      <td>NaN</td>\n",
       "      <td>NaN</td>\n",
       "      <td>NaN</td>\n",
       "      <td>NaN</td>\n",
       "      <td>NaN</td>\n",
       "      <td>NaN</td>\n",
       "      <td>NaN</td>\n",
       "    </tr>\n",
       "    <tr>\n",
       "      <th>0.5</th>\n",
       "      <td>2.0</td>\n",
       "      <td>81.0</td>\n",
       "      <td>NaN</td>\n",
       "      <td>NaN</td>\n",
       "      <td>NaN</td>\n",
       "      <td>NaN</td>\n",
       "      <td>NaN</td>\n",
       "      <td>NaN</td>\n",
       "      <td>NaN</td>\n",
       "      <td>NaN</td>\n",
       "      <td>NaN</td>\n",
       "    </tr>\n",
       "    <tr>\n",
       "      <th>1.0</th>\n",
       "      <td>466.0</td>\n",
       "      <td>8748.0</td>\n",
       "      <td>2428.0</td>\n",
       "      <td>712.0</td>\n",
       "      <td>70.0</td>\n",
       "      <td>1.0</td>\n",
       "      <td>1.0</td>\n",
       "      <td>NaN</td>\n",
       "      <td>NaN</td>\n",
       "      <td>NaN</td>\n",
       "      <td>NaN</td>\n",
       "    </tr>\n",
       "    <tr>\n",
       "      <th>1.5</th>\n",
       "      <td>7.0</td>\n",
       "      <td>787.0</td>\n",
       "      <td>162.0</td>\n",
       "      <td>144.0</td>\n",
       "      <td>49.0</td>\n",
       "      <td>3.0</td>\n",
       "      <td>1.0</td>\n",
       "      <td>NaN</td>\n",
       "      <td>NaN</td>\n",
       "      <td>NaN</td>\n",
       "      <td>NaN</td>\n",
       "    </tr>\n",
       "    <tr>\n",
       "      <th>2.0</th>\n",
       "      <td>9.0</td>\n",
       "      <td>1233.0</td>\n",
       "      <td>766.0</td>\n",
       "      <td>871.0</td>\n",
       "      <td>330.0</td>\n",
       "      <td>47.0</td>\n",
       "      <td>11.0</td>\n",
       "      <td>1.0</td>\n",
       "      <td>1.0</td>\n",
       "      <td>NaN</td>\n",
       "      <td>NaN</td>\n",
       "    </tr>\n",
       "    <tr>\n",
       "      <th>2.5</th>\n",
       "      <td>NaN</td>\n",
       "      <td>42.0</td>\n",
       "      <td>19.0</td>\n",
       "      <td>35.0</td>\n",
       "      <td>25.0</td>\n",
       "      <td>7.0</td>\n",
       "      <td>6.0</td>\n",
       "      <td>NaN</td>\n",
       "      <td>NaN</td>\n",
       "      <td>NaN</td>\n",
       "      <td>NaN</td>\n",
       "    </tr>\n",
       "    <tr>\n",
       "      <th>3.0</th>\n",
       "      <td>1.0</td>\n",
       "      <td>49.0</td>\n",
       "      <td>4.0</td>\n",
       "      <td>68.0</td>\n",
       "      <td>61.0</td>\n",
       "      <td>35.0</td>\n",
       "      <td>15.0</td>\n",
       "      <td>NaN</td>\n",
       "      <td>NaN</td>\n",
       "      <td>NaN</td>\n",
       "      <td>NaN</td>\n",
       "    </tr>\n",
       "    <tr>\n",
       "      <th>3.5</th>\n",
       "      <td>NaN</td>\n",
       "      <td>8.0</td>\n",
       "      <td>NaN</td>\n",
       "      <td>4.0</td>\n",
       "      <td>7.0</td>\n",
       "      <td>5.0</td>\n",
       "      <td>2.0</td>\n",
       "      <td>NaN</td>\n",
       "      <td>NaN</td>\n",
       "      <td>NaN</td>\n",
       "      <td>NaN</td>\n",
       "    </tr>\n",
       "    <tr>\n",
       "      <th>4.0</th>\n",
       "      <td>NaN</td>\n",
       "      <td>27.0</td>\n",
       "      <td>1.0</td>\n",
       "      <td>5.0</td>\n",
       "      <td>27.0</td>\n",
       "      <td>3.0</td>\n",
       "      <td>6.0</td>\n",
       "      <td>2.0</td>\n",
       "      <td>1.0</td>\n",
       "      <td>2.0</td>\n",
       "      <td>NaN</td>\n",
       "    </tr>\n",
       "    <tr>\n",
       "      <th>4.5</th>\n",
       "      <td>NaN</td>\n",
       "      <td>NaN</td>\n",
       "      <td>NaN</td>\n",
       "      <td>NaN</td>\n",
       "      <td>3.0</td>\n",
       "      <td>NaN</td>\n",
       "      <td>NaN</td>\n",
       "      <td>NaN</td>\n",
       "      <td>NaN</td>\n",
       "      <td>NaN</td>\n",
       "      <td>NaN</td>\n",
       "    </tr>\n",
       "    <tr>\n",
       "      <th>5.0</th>\n",
       "      <td>NaN</td>\n",
       "      <td>11.0</td>\n",
       "      <td>1.0</td>\n",
       "      <td>NaN</td>\n",
       "      <td>3.0</td>\n",
       "      <td>2.0</td>\n",
       "      <td>NaN</td>\n",
       "      <td>NaN</td>\n",
       "      <td>NaN</td>\n",
       "      <td>NaN</td>\n",
       "      <td>1.0</td>\n",
       "    </tr>\n",
       "    <tr>\n",
       "      <th>5.5</th>\n",
       "      <td>NaN</td>\n",
       "      <td>2.0</td>\n",
       "      <td>NaN</td>\n",
       "      <td>NaN</td>\n",
       "      <td>1.0</td>\n",
       "      <td>1.0</td>\n",
       "      <td>NaN</td>\n",
       "      <td>NaN</td>\n",
       "      <td>NaN</td>\n",
       "      <td>1.0</td>\n",
       "      <td>NaN</td>\n",
       "    </tr>\n",
       "    <tr>\n",
       "      <th>6.0</th>\n",
       "      <td>NaN</td>\n",
       "      <td>1.0</td>\n",
       "      <td>NaN</td>\n",
       "      <td>NaN</td>\n",
       "      <td>NaN</td>\n",
       "      <td>NaN</td>\n",
       "      <td>2.0</td>\n",
       "      <td>NaN</td>\n",
       "      <td>1.0</td>\n",
       "      <td>NaN</td>\n",
       "      <td>2.0</td>\n",
       "    </tr>\n",
       "    <tr>\n",
       "      <th>6.5</th>\n",
       "      <td>NaN</td>\n",
       "      <td>NaN</td>\n",
       "      <td>NaN</td>\n",
       "      <td>NaN</td>\n",
       "      <td>NaN</td>\n",
       "      <td>NaN</td>\n",
       "      <td>1.0</td>\n",
       "      <td>NaN</td>\n",
       "      <td>NaN</td>\n",
       "      <td>NaN</td>\n",
       "      <td>NaN</td>\n",
       "    </tr>\n",
       "    <tr>\n",
       "      <th>7.0</th>\n",
       "      <td>NaN</td>\n",
       "      <td>1.0</td>\n",
       "      <td>NaN</td>\n",
       "      <td>NaN</td>\n",
       "      <td>NaN</td>\n",
       "      <td>NaN</td>\n",
       "      <td>NaN</td>\n",
       "      <td>NaN</td>\n",
       "      <td>NaN</td>\n",
       "      <td>NaN</td>\n",
       "      <td>NaN</td>\n",
       "    </tr>\n",
       "    <tr>\n",
       "      <th>8.0</th>\n",
       "      <td>NaN</td>\n",
       "      <td>5.0</td>\n",
       "      <td>NaN</td>\n",
       "      <td>1.0</td>\n",
       "      <td>NaN</td>\n",
       "      <td>1.0</td>\n",
       "      <td>1.0</td>\n",
       "      <td>NaN</td>\n",
       "      <td>NaN</td>\n",
       "      <td>3.0</td>\n",
       "      <td>NaN</td>\n",
       "    </tr>\n",
       "  </tbody>\n",
       "</table>\n",
       "</div>"
      ],
      "text/plain": [
       "bedrooms    0.0     1.0     2.0    3.0    4.0   5.0   6.0   7.0   8.0   9.0   \\\n",
       "bathrooms                                                                      \n",
       "0.0          NaN    55.0     1.0    1.0    NaN   NaN   NaN   NaN   NaN   NaN   \n",
       "0.5          2.0    81.0     NaN    NaN    NaN   NaN   NaN   NaN   NaN   NaN   \n",
       "1.0        466.0  8748.0  2428.0  712.0   70.0   1.0   1.0   NaN   NaN   NaN   \n",
       "1.5          7.0   787.0   162.0  144.0   49.0   3.0   1.0   NaN   NaN   NaN   \n",
       "2.0          9.0  1233.0   766.0  871.0  330.0  47.0  11.0   1.0   1.0   NaN   \n",
       "2.5          NaN    42.0    19.0   35.0   25.0   7.0   6.0   NaN   NaN   NaN   \n",
       "3.0          1.0    49.0     4.0   68.0   61.0  35.0  15.0   NaN   NaN   NaN   \n",
       "3.5          NaN     8.0     NaN    4.0    7.0   5.0   2.0   NaN   NaN   NaN   \n",
       "4.0          NaN    27.0     1.0    5.0   27.0   3.0   6.0   2.0   1.0   2.0   \n",
       "4.5          NaN     NaN     NaN    NaN    3.0   NaN   NaN   NaN   NaN   NaN   \n",
       "5.0          NaN    11.0     1.0    NaN    3.0   2.0   NaN   NaN   NaN   NaN   \n",
       "5.5          NaN     2.0     NaN    NaN    1.0   1.0   NaN   NaN   NaN   1.0   \n",
       "6.0          NaN     1.0     NaN    NaN    NaN   NaN   2.0   NaN   1.0   NaN   \n",
       "6.5          NaN     NaN     NaN    NaN    NaN   NaN   1.0   NaN   NaN   NaN   \n",
       "7.0          NaN     1.0     NaN    NaN    NaN   NaN   NaN   NaN   NaN   NaN   \n",
       "8.0          NaN     5.0     NaN    1.0    NaN   1.0   1.0   NaN   NaN   3.0   \n",
       "\n",
       "bedrooms   10.0  \n",
       "bathrooms        \n",
       "0.0         NaN  \n",
       "0.5         NaN  \n",
       "1.0         NaN  \n",
       "1.5         NaN  \n",
       "2.0         NaN  \n",
       "2.5         NaN  \n",
       "3.0         NaN  \n",
       "3.5         NaN  \n",
       "4.0         NaN  \n",
       "4.5         NaN  \n",
       "5.0         1.0  \n",
       "5.5         NaN  \n",
       "6.0         2.0  \n",
       "6.5         NaN  \n",
       "7.0         NaN  \n",
       "8.0         NaN  "
      ]
     },
     "execution_count": 153,
     "metadata": {},
     "output_type": "execute_result"
    }
   ],
   "source": [
    "listings.loc[(listings['price']<=600)&(listings['price']>0)].groupby(['bathrooms','bedrooms']).count()['price'].reset_index().pivot('bathrooms','bedrooms','price')"
   ]
  },
  {
   "cell_type": "code",
   "execution_count": 154,
   "id": "e00831d4",
   "metadata": {},
   "outputs": [
    {
     "name": "stderr",
     "output_type": "stream",
     "text": [
      "/var/folders/x6/g_vzqtmd3qv8911q4dpjqbh40000gn/T/ipykernel_3558/3859323300.py:1: FutureWarning: In a future version of pandas all arguments of DataFrame.pivot will be keyword-only.\n",
      "  cur_input=listings.loc[(listings['price']<=600)&(listings['price']>0)].groupby(['bathrooms','bedrooms']).count()['price'].reset_index().pivot('bathrooms','bedrooms','price')\n"
     ]
    }
   ],
   "source": [
    "cur_input=listings.loc[(listings['price']<=600)&(listings['price']>0)].groupby(['bathrooms','bedrooms']).count()['price'].reset_index().pivot('bathrooms','bedrooms','price')"
   ]
  },
  {
   "cell_type": "code",
   "execution_count": 155,
   "id": "2ab3e293",
   "metadata": {},
   "outputs": [
    {
     "data": {
      "text/plain": [
       "<AxesSubplot:xlabel='bedrooms', ylabel='bathrooms'>"
      ]
     },
     "execution_count": 155,
     "metadata": {},
     "output_type": "execute_result"
    },
    {
     "data": {
      "image/png": "[encoded data removed]",
      "text/plain": [
       "<Figure size 1400x1000 with 2 Axes>"
      ]
     },
     "metadata": {},
     "output_type": "display_data"
    }
   ],
   "source": [
    "f,ax=plt.subplots(figsize=(14,10))\n",
    "sns.heatmap(cur_input,cmap='Oranges',annot=True,linewidths=0.5,fmt='.0f')"
   ]
  },
  {
   "cell_type": "code",
   "execution_count": 156,
   "id": "19805501",
   "metadata": {},
   "outputs": [
    {
     "name": "stderr",
     "output_type": "stream",
     "text": [
      "/var/folders/x6/g_vzqtmd3qv8911q4dpjqbh40000gn/T/ipykernel_3558/193897695.py:1: FutureWarning: The default value of numeric_only in DataFrameGroupBy.mean is deprecated. In a future version, numeric_only will default to False. Either specify numeric_only or select only columns which should be valid for the function.\n",
      "  cur_input=listings.loc[(listings['price']<=600)&(listings['price']>0)].groupby(['bathrooms','bedrooms']).mean()['price'].reset_index().pivot('bathrooms','bedrooms','price')\n",
      "/var/folders/x6/g_vzqtmd3qv8911q4dpjqbh40000gn/T/ipykernel_3558/193897695.py:1: FutureWarning: In a future version of pandas all arguments of DataFrame.pivot will be keyword-only.\n",
      "  cur_input=listings.loc[(listings['price']<=600)&(listings['price']>0)].groupby(['bathrooms','bedrooms']).mean()['price'].reset_index().pivot('bathrooms','bedrooms','price')\n"
     ]
    },
    {
     "data": {
      "text/plain": [
       "<AxesSubplot:xlabel='bedrooms', ylabel='bathrooms'>"
      ]
     },
     "execution_count": 156,
     "metadata": {},
     "output_type": "execute_result"
    },
    {
     "data": {
      "image/png": "[encoded data removed]",
      "text/plain": [
       "<Figure size 1400x1000 with 2 Axes>"
      ]
     },
     "metadata": {},
     "output_type": "display_data"
    }
   ],
   "source": [
    "cur_input=listings.loc[(listings['price']<=600)&(listings['price']>0)].groupby(['bathrooms','bedrooms']).mean()['price'].reset_index().pivot('bathrooms','bedrooms','price')\n",
    "f,ax=plt.subplots(figsize=(14,10))\n",
    "sns.heatmap(cur_input,cmap='Oranges',annot=True,linewidths=0.5,fmt='.0f')\n"
   ]
  },
  {
   "cell_type": "code",
   "execution_count": 5,
   "id": "1c37d434",
   "metadata": {},
   "outputs": [
    {
     "name": "stderr",
     "output_type": "stream",
     "text": [
      "/var/folders/x6/g_vzqtmd3qv8911q4dpjqbh40000gn/T/ipykernel_10016/1736432972.py:1: DtypeWarning: Columns (43) have mixed types. Specify dtype option on import or set low_memory=False.\n",
      "  listings=pd.read_csv('./data/listings.csv.gz')\n"
     ]
    }
   ],
   "source": [
    "listings=pd.read_csv('./data/listings.csv.gz')"
   ]
  },
  {
   "cell_type": "code",
   "execution_count": 6,
   "id": "e23a357c",
   "metadata": {},
   "outputs": [
    {
     "data": {
      "text/html": [
       "<div>\n",
       "<style scoped>\n",
       "    .dataframe tbody tr th:only-of-type {\n",
       "        vertical-align: middle;\n",
       "    }\n",
       "\n",
       "    .dataframe tbody tr th {\n",
       "        vertical-align: top;\n",
       "    }\n",
       "\n",
       "    .dataframe thead th {\n",
       "        text-align: right;\n",
       "    }\n",
       "</style>\n",
       "<table border=\"1\" class=\"dataframe\">\n",
       "  <thead>\n",
       "    <tr style=\"text-align: right;\">\n",
       "      <th></th>\n",
       "      <th>id</th>\n",
       "      <th>listing_url</th>\n",
       "      <th>scrape_id</th>\n",
       "      <th>last_scraped</th>\n",
       "      <th>name</th>\n",
       "      <th>summary</th>\n",
       "      <th>space</th>\n",
       "      <th>description</th>\n",
       "      <th>experiences_offered</th>\n",
       "      <th>neighborhood_overview</th>\n",
       "      <th>...</th>\n",
       "      <th>review_scores_value</th>\n",
       "      <th>requires_license</th>\n",
       "      <th>license</th>\n",
       "      <th>jurisdiction_names</th>\n",
       "      <th>instant_bookable</th>\n",
       "      <th>cancellation_policy</th>\n",
       "      <th>require_guest_profile_picture</th>\n",
       "      <th>require_guest_phone_verification</th>\n",
       "      <th>calculated_host_listings_count</th>\n",
       "      <th>reviews_per_month</th>\n",
       "    </tr>\n",
       "  </thead>\n",
       "  <tbody>\n",
       "    <tr>\n",
       "      <th>0</th>\n",
       "      <td>8207551</td>\n",
       "      <td>https://www.airbnb.com/rooms/8207551</td>\n",
       "      <td>20170407214050</td>\n",
       "      <td>2017-04-08</td>\n",
       "      <td>Room in Sant Antoni huge terrasse</td>\n",
       "      <td>Located between Sant Antoni &amp; Universitat (met...</td>\n",
       "      <td>the apartment is located on the 7th floor and ...</td>\n",
       "      <td>Located between Sant Antoni &amp; Universitat (met...</td>\n",
       "      <td>none</td>\n",
       "      <td>Sant Antoni is a very central neighborhood and...</td>\n",
       "      <td>...</td>\n",
       "      <td>10.0</td>\n",
       "      <td>t</td>\n",
       "      <td>NaN</td>\n",
       "      <td>NaN</td>\n",
       "      <td>f</td>\n",
       "      <td>strict</td>\n",
       "      <td>f</td>\n",
       "      <td>f</td>\n",
       "      <td>2</td>\n",
       "      <td>0.11</td>\n",
       "    </tr>\n",
       "    <tr>\n",
       "      <th>1</th>\n",
       "      <td>14958299</td>\n",
       "      <td>https://www.airbnb.com/rooms/14958299</td>\n",
       "      <td>20170407214050</td>\n",
       "      <td>2017-04-08</td>\n",
       "      <td>Next To Las Ramblas, Unique, Wif1</td>\n",
       "      <td>Brand new apartment, cosy and clean.  Only 5 m...</td>\n",
       "      <td>Fun, bohemian. Real Catalan style Well equippe...</td>\n",
       "      <td>Brand new apartment, cosy and clean.  Only 5 m...</td>\n",
       "      <td>none</td>\n",
       "      <td>NaN</td>\n",
       "      <td>...</td>\n",
       "      <td>8.0</td>\n",
       "      <td>t</td>\n",
       "      <td>NaN</td>\n",
       "      <td>NaN</td>\n",
       "      <td>t</td>\n",
       "      <td>strict</td>\n",
       "      <td>f</td>\n",
       "      <td>f</td>\n",
       "      <td>1</td>\n",
       "      <td>2.26</td>\n",
       "    </tr>\n",
       "    <tr>\n",
       "      <th>2</th>\n",
       "      <td>7766152</td>\n",
       "      <td>https://www.airbnb.com/rooms/7766152</td>\n",
       "      <td>20170407214050</td>\n",
       "      <td>2017-04-08</td>\n",
       "      <td>Sunny whole flat in Raval/Ramblas</td>\n",
       "      <td>Calm, sunny 43sqm flat. Living room w/balcony ...</td>\n",
       "      <td>Very luminous and calm, in a neighborhood than...</td>\n",
       "      <td>Calm, sunny 43sqm flat. Living room w/balcony ...</td>\n",
       "      <td>none</td>\n",
       "      <td>Very central, lively, popular hood. Near the s...</td>\n",
       "      <td>...</td>\n",
       "      <td>9.0</td>\n",
       "      <td>t</td>\n",
       "      <td>NaN</td>\n",
       "      <td>NaN</td>\n",
       "      <td>f</td>\n",
       "      <td>strict</td>\n",
       "      <td>f</td>\n",
       "      <td>f</td>\n",
       "      <td>1</td>\n",
       "      <td>0.40</td>\n",
       "    </tr>\n",
       "    <tr>\n",
       "      <th>3</th>\n",
       "      <td>9237132</td>\n",
       "      <td>https://www.airbnb.com/rooms/9237132</td>\n",
       "      <td>20170407214050</td>\n",
       "      <td>2017-04-08</td>\n",
       "      <td>Apartment in the heart of Barcelona</td>\n",
       "      <td>The apartment is an ideal place for relax afte...</td>\n",
       "      <td>Both rooms include a comfortable double bed wi...</td>\n",
       "      <td>The apartment is an ideal place for relax afte...</td>\n",
       "      <td>none</td>\n",
       "      <td>NaN</td>\n",
       "      <td>...</td>\n",
       "      <td>9.0</td>\n",
       "      <td>t</td>\n",
       "      <td>NaN</td>\n",
       "      <td>NaN</td>\n",
       "      <td>t</td>\n",
       "      <td>flexible</td>\n",
       "      <td>f</td>\n",
       "      <td>f</td>\n",
       "      <td>1</td>\n",
       "      <td>3.17</td>\n",
       "    </tr>\n",
       "    <tr>\n",
       "      <th>4</th>\n",
       "      <td>1406827</td>\n",
       "      <td>https://www.airbnb.com/rooms/1406827</td>\n",
       "      <td>20170407214050</td>\n",
       "      <td>2017-04-08</td>\n",
       "      <td>Centric Bohemian next Ramblas&amp;Macba</td>\n",
       "      <td>Artistic cosy renovated flat 40m2 with balcony...</td>\n",
       "      <td>The apartment is 40m2 and has everything you n...</td>\n",
       "      <td>Artistic cosy renovated flat 40m2 with balcony...</td>\n",
       "      <td>none</td>\n",
       "      <td>Raval is the distric where most of the young a...</td>\n",
       "      <td>...</td>\n",
       "      <td>8.0</td>\n",
       "      <td>t</td>\n",
       "      <td>43212</td>\n",
       "      <td>NaN</td>\n",
       "      <td>t</td>\n",
       "      <td>moderate</td>\n",
       "      <td>f</td>\n",
       "      <td>f</td>\n",
       "      <td>1</td>\n",
       "      <td>5.06</td>\n",
       "    </tr>\n",
       "  </tbody>\n",
       "</table>\n",
       "<p>5 rows × 95 columns</p>\n",
       "</div>"
      ],
      "text/plain": [
       "         id                            listing_url       scrape_id  \\\n",
       "0   8207551   https://www.airbnb.com/rooms/8207551  20170407214050   \n",
       "1  14958299  https://www.airbnb.com/rooms/14958299  20170407214050   \n",
       "2   7766152   https://www.airbnb.com/rooms/7766152  20170407214050   \n",
       "3   9237132   https://www.airbnb.com/rooms/9237132  20170407214050   \n",
       "4   1406827   https://www.airbnb.com/rooms/1406827  20170407214050   \n",
       "\n",
       "  last_scraped                                 name  \\\n",
       "0   2017-04-08    Room in Sant Antoni huge terrasse   \n",
       "1   2017-04-08    Next To Las Ramblas, Unique, Wif1   \n",
       "2   2017-04-08    Sunny whole flat in Raval/Ramblas   \n",
       "3   2017-04-08  Apartment in the heart of Barcelona   \n",
       "4   2017-04-08  Centric Bohemian next Ramblas&Macba   \n",
       "\n",
       "                                             summary  \\\n",
       "0  Located between Sant Antoni & Universitat (met...   \n",
       "1  Brand new apartment, cosy and clean.  Only 5 m...   \n",
       "2  Calm, sunny 43sqm flat. Living room w/balcony ...   \n",
       "3  The apartment is an ideal place for relax afte...   \n",
       "4  Artistic cosy renovated flat 40m2 with balcony...   \n",
       "\n",
       "                                               space  \\\n",
       "0  the apartment is located on the 7th floor and ...   \n",
       "1  Fun, bohemian. Real Catalan style Well equippe...   \n",
       "2  Very luminous and calm, in a neighborhood than...   \n",
       "3  Both rooms include a comfortable double bed wi...   \n",
       "4  The apartment is 40m2 and has everything you n...   \n",
       "\n",
       "                                         description experiences_offered  \\\n",
       "0  Located between Sant Antoni & Universitat (met...                none   \n",
       "1  Brand new apartment, cosy and clean.  Only 5 m...                none   \n",
       "2  Calm, sunny 43sqm flat. Living room w/balcony ...                none   \n",
       "3  The apartment is an ideal place for relax afte...                none   \n",
       "4  Artistic cosy renovated flat 40m2 with balcony...                none   \n",
       "\n",
       "                               neighborhood_overview  ... review_scores_value  \\\n",
       "0  Sant Antoni is a very central neighborhood and...  ...                10.0   \n",
       "1                                                NaN  ...                 8.0   \n",
       "2  Very central, lively, popular hood. Near the s...  ...                 9.0   \n",
       "3                                                NaN  ...                 9.0   \n",
       "4  Raval is the distric where most of the young a...  ...                 8.0   \n",
       "\n",
       "  requires_license license jurisdiction_names instant_bookable  \\\n",
       "0                t     NaN                NaN                f   \n",
       "1                t     NaN                NaN                t   \n",
       "2                t     NaN                NaN                f   \n",
       "3                t     NaN                NaN                t   \n",
       "4                t   43212                NaN                t   \n",
       "\n",
       "  cancellation_policy require_guest_profile_picture  \\\n",
       "0              strict                             f   \n",
       "1              strict                             f   \n",
       "2              strict                             f   \n",
       "3            flexible                             f   \n",
       "4            moderate                             f   \n",
       "\n",
       "  require_guest_phone_verification calculated_host_listings_count  \\\n",
       "0                                f                              2   \n",
       "1                                f                              1   \n",
       "2                                f                              1   \n",
       "3                                f                              1   \n",
       "4                                f                              1   \n",
       "\n",
       "   reviews_per_month  \n",
       "0               0.11  \n",
       "1               2.26  \n",
       "2               0.40  \n",
       "3               3.17  \n",
       "4               5.06  \n",
       "\n",
       "[5 rows x 95 columns]"
      ]
     },
     "execution_count": 6,
     "metadata": {},
     "output_type": "execute_result"
    }
   ],
   "source": [
    "listings.head()"
   ]
  },
  {
   "cell_type": "code",
   "execution_count": 7,
   "id": "1c569cad",
   "metadata": {},
   "outputs": [
    {
     "name": "stderr",
     "output_type": "stream",
     "text": [
      "/var/folders/x6/g_vzqtmd3qv8911q4dpjqbh40000gn/T/ipykernel_10016/526938751.py:2: FutureWarning: The default value of regex will change from True to False in a future version. In addition, single character regular expressions will *not* be treated as literal strings when regex=True.\n",
      "  listings['price']=listings['price'].str.replace('$','')\n"
     ]
    }
   ],
   "source": [
    "listings['price']=listings['price'].str.replace(',','')\n",
    "listings['price']=listings['price'].str.replace('$','')\n",
    "listings['price']=listings['price'].astype(float)\n",
    "listings=listings.loc[(listings.price<=600) & (listings.price>0)]"
   ]
  },
  {
   "cell_type": "code",
   "execution_count": 8,
   "id": "1557320c",
   "metadata": {},
   "outputs": [
    {
     "name": "stderr",
     "output_type": "stream",
     "text": [
      "/var/folders/x6/g_vzqtmd3qv8911q4dpjqbh40000gn/T/ipykernel_10016/560585690.py:1: FutureWarning: The default value of regex will change from True to False in a future version.\n",
      "  listings.amenities=listings.amenities.str.replace(\"[{}]\",\"\").str.replace('\"',\"\")\n"
     ]
    }
   ],
   "source": [
    "listings.amenities=listings.amenities.str.replace(\"[{}]\",\"\").str.replace('\"',\"\")"
   ]
  },
  {
   "cell_type": "code",
   "execution_count": 9,
   "id": "371e8843",
   "metadata": {},
   "outputs": [],
   "source": [
    "columns=['host_is_superhost','host_identity_verified','host_has_profile_pic',\n",
    "        'is_location_exact','requires_license','instant_bookable',\n",
    "        'require_guest_profile_picture','require_guest_phone_verification']\n",
    "for c in columns:\n",
    "    listings[c]=listings[c].replace('f',0,regex=True)\n",
    "    listings[c]=listings[c].replace('t',1,regex=True)"
   ]
  },
  {
   "cell_type": "code",
   "execution_count": 10,
   "id": "a8062acb",
   "metadata": {},
   "outputs": [],
   "source": [
    "listings['security_deposit']=listings['security_deposit'].fillna(value=0)\n",
    "listings['security_deposit']=listings['security_deposit'].replace('[\\$,)]','',regex=True).astype(float)\n",
    "listings['cleaning_fee']=listings['cleaning_fee'].fillna(value=0)\n",
    "listings['cleaning_fee']=listings['cleaning_fee'].replace('[\\$,)]','',regex=True).astype(float)\n"
   ]
  },
  {
   "cell_type": "code",
   "execution_count": 11,
   "id": "f7360467",
   "metadata": {},
   "outputs": [],
   "source": [
    "listings_new=listings[['host_is_superhost','host_identity_verified','host_has_profile_pic',\n",
    "        'is_location_exact','requires_license','instant_bookable',\n",
    "        'require_guest_profile_picture','require_guest_phone_verification',\n",
    "                      'security_deposit','cleaning_fee','host_listings_count',\n",
    "                      'host_total_listings_count','minimum_nights','bathrooms',\n",
    "                      'bedrooms','guests_included','number_of_reviews',\n",
    "                      'review_scores_rating','price']]"
   ]
  },
  {
   "cell_type": "code",
   "execution_count": 12,
   "id": "b206cd40",
   "metadata": {},
   "outputs": [
    {
     "name": "stdout",
     "output_type": "stream",
     "text": [
      "host_is_superhost\n",
      "host_identity_verified\n",
      "host_has_profile_pic\n",
      "host_listings_count\n",
      "host_total_listings_count\n",
      "bathrooms\n",
      "bedrooms\n",
      "review_scores_rating\n"
     ]
    }
   ],
   "source": [
    "for col in listings_new.columns[listings_new.isnull().any()]:\n",
    "    print(col)"
   ]
  },
  {
   "cell_type": "code",
   "execution_count": 13,
   "id": "b7b090cd",
   "metadata": {},
   "outputs": [
    {
     "name": "stderr",
     "output_type": "stream",
     "text": [
      "/var/folders/x6/g_vzqtmd3qv8911q4dpjqbh40000gn/T/ipykernel_10016/145268401.py:2: SettingWithCopyWarning: \n",
      "A value is trying to be set on a copy of a slice from a DataFrame.\n",
      "Try using .loc[row_indexer,col_indexer] = value instead\n",
      "\n",
      "See the caveats in the documentation: https://pandas.pydata.org/pandas-docs/stable/user_guide/indexing.html#returning-a-view-versus-a-copy\n",
      "  listings_new[col]=listings_new[col].fillna(listings_new[col].median())\n",
      "/var/folders/x6/g_vzqtmd3qv8911q4dpjqbh40000gn/T/ipykernel_10016/145268401.py:2: SettingWithCopyWarning: \n",
      "A value is trying to be set on a copy of a slice from a DataFrame.\n",
      "Try using .loc[row_indexer,col_indexer] = value instead\n",
      "\n",
      "See the caveats in the documentation: https://pandas.pydata.org/pandas-docs/stable/user_guide/indexing.html#returning-a-view-versus-a-copy\n",
      "  listings_new[col]=listings_new[col].fillna(listings_new[col].median())\n",
      "/var/folders/x6/g_vzqtmd3qv8911q4dpjqbh40000gn/T/ipykernel_10016/145268401.py:2: SettingWithCopyWarning: \n",
      "A value is trying to be set on a copy of a slice from a DataFrame.\n",
      "Try using .loc[row_indexer,col_indexer] = value instead\n",
      "\n",
      "See the caveats in the documentation: https://pandas.pydata.org/pandas-docs/stable/user_guide/indexing.html#returning-a-view-versus-a-copy\n",
      "  listings_new[col]=listings_new[col].fillna(listings_new[col].median())\n",
      "/var/folders/x6/g_vzqtmd3qv8911q4dpjqbh40000gn/T/ipykernel_10016/145268401.py:2: SettingWithCopyWarning: \n",
      "A value is trying to be set on a copy of a slice from a DataFrame.\n",
      "Try using .loc[row_indexer,col_indexer] = value instead\n",
      "\n",
      "See the caveats in the documentation: https://pandas.pydata.org/pandas-docs/stable/user_guide/indexing.html#returning-a-view-versus-a-copy\n",
      "  listings_new[col]=listings_new[col].fillna(listings_new[col].median())\n",
      "/var/folders/x6/g_vzqtmd3qv8911q4dpjqbh40000gn/T/ipykernel_10016/145268401.py:2: SettingWithCopyWarning: \n",
      "A value is trying to be set on a copy of a slice from a DataFrame.\n",
      "Try using .loc[row_indexer,col_indexer] = value instead\n",
      "\n",
      "See the caveats in the documentation: https://pandas.pydata.org/pandas-docs/stable/user_guide/indexing.html#returning-a-view-versus-a-copy\n",
      "  listings_new[col]=listings_new[col].fillna(listings_new[col].median())\n",
      "/var/folders/x6/g_vzqtmd3qv8911q4dpjqbh40000gn/T/ipykernel_10016/145268401.py:2: SettingWithCopyWarning: \n",
      "A value is trying to be set on a copy of a slice from a DataFrame.\n",
      "Try using .loc[row_indexer,col_indexer] = value instead\n",
      "\n",
      "See the caveats in the documentation: https://pandas.pydata.org/pandas-docs/stable/user_guide/indexing.html#returning-a-view-versus-a-copy\n",
      "  listings_new[col]=listings_new[col].fillna(listings_new[col].median())\n",
      "/var/folders/x6/g_vzqtmd3qv8911q4dpjqbh40000gn/T/ipykernel_10016/145268401.py:2: SettingWithCopyWarning: \n",
      "A value is trying to be set on a copy of a slice from a DataFrame.\n",
      "Try using .loc[row_indexer,col_indexer] = value instead\n",
      "\n",
      "See the caveats in the documentation: https://pandas.pydata.org/pandas-docs/stable/user_guide/indexing.html#returning-a-view-versus-a-copy\n",
      "  listings_new[col]=listings_new[col].fillna(listings_new[col].median())\n",
      "/var/folders/x6/g_vzqtmd3qv8911q4dpjqbh40000gn/T/ipykernel_10016/145268401.py:2: SettingWithCopyWarning: \n",
      "A value is trying to be set on a copy of a slice from a DataFrame.\n",
      "Try using .loc[row_indexer,col_indexer] = value instead\n",
      "\n",
      "See the caveats in the documentation: https://pandas.pydata.org/pandas-docs/stable/user_guide/indexing.html#returning-a-view-versus-a-copy\n",
      "  listings_new[col]=listings_new[col].fillna(listings_new[col].median())\n"
     ]
    }
   ],
   "source": [
    "for col in listings_new.columns[listings_new.isnull().any()]:\n",
    "    listings_new[col]=listings_new[col].fillna(listings_new[col].median())"
   ]
  },
  {
   "cell_type": "code",
   "execution_count": 14,
   "id": "4483822b",
   "metadata": {},
   "outputs": [],
   "source": [
    "for cat_feature in ['zipcode','property_type','room_type','cancellation_policy',\n",
    "                   'neighbourhood_cleansed','bed_type']:\n",
    "    listings_new=pd.concat([listings_new,pd.get_dummies(listings[cat_feature])],axis=1)\n",
    "    "
   ]
  },
  {
   "cell_type": "code",
   "execution_count": 15,
   "id": "0e1c9f4f",
   "metadata": {},
   "outputs": [
    {
     "data": {
      "text/html": [
       "<div>\n",
       "<style scoped>\n",
       "    .dataframe tbody tr th:only-of-type {\n",
       "        vertical-align: middle;\n",
       "    }\n",
       "\n",
       "    .dataframe tbody tr th {\n",
       "        vertical-align: top;\n",
       "    }\n",
       "\n",
       "    .dataframe thead th {\n",
       "        text-align: right;\n",
       "    }\n",
       "</style>\n",
       "<table border=\"1\" class=\"dataframe\">\n",
       "  <thead>\n",
       "    <tr style=\"text-align: right;\">\n",
       "      <th></th>\n",
       "      <th>host_is_superhost</th>\n",
       "      <th>host_identity_verified</th>\n",
       "      <th>host_has_profile_pic</th>\n",
       "      <th>is_location_exact</th>\n",
       "      <th>requires_license</th>\n",
       "      <th>instant_bookable</th>\n",
       "      <th>require_guest_profile_picture</th>\n",
       "      <th>require_guest_phone_verification</th>\n",
       "      <th>security_deposit</th>\n",
       "      <th>cleaning_fee</th>\n",
       "      <th>...</th>\n",
       "      <th>la Vila Olímpica del Poblenou</th>\n",
       "      <th>la Vila de Gràcia</th>\n",
       "      <th>les Corts</th>\n",
       "      <th>les Roquetes</th>\n",
       "      <th>les Tres Torres</th>\n",
       "      <th>Airbed</th>\n",
       "      <th>Couch</th>\n",
       "      <th>Futon</th>\n",
       "      <th>Pull-out Sofa</th>\n",
       "      <th>Real Bed</th>\n",
       "    </tr>\n",
       "  </thead>\n",
       "  <tbody>\n",
       "    <tr>\n",
       "      <th>0</th>\n",
       "      <td>0.0</td>\n",
       "      <td>1.0</td>\n",
       "      <td>1.0</td>\n",
       "      <td>1</td>\n",
       "      <td>1</td>\n",
       "      <td>0</td>\n",
       "      <td>0</td>\n",
       "      <td>0</td>\n",
       "      <td>0.0</td>\n",
       "      <td>15.0</td>\n",
       "      <td>...</td>\n",
       "      <td>0</td>\n",
       "      <td>0</td>\n",
       "      <td>0</td>\n",
       "      <td>0</td>\n",
       "      <td>0</td>\n",
       "      <td>0</td>\n",
       "      <td>0</td>\n",
       "      <td>0</td>\n",
       "      <td>0</td>\n",
       "      <td>1</td>\n",
       "    </tr>\n",
       "    <tr>\n",
       "      <th>1</th>\n",
       "      <td>0.0</td>\n",
       "      <td>0.0</td>\n",
       "      <td>1.0</td>\n",
       "      <td>0</td>\n",
       "      <td>1</td>\n",
       "      <td>1</td>\n",
       "      <td>0</td>\n",
       "      <td>0</td>\n",
       "      <td>0.0</td>\n",
       "      <td>25.0</td>\n",
       "      <td>...</td>\n",
       "      <td>0</td>\n",
       "      <td>0</td>\n",
       "      <td>0</td>\n",
       "      <td>0</td>\n",
       "      <td>0</td>\n",
       "      <td>0</td>\n",
       "      <td>0</td>\n",
       "      <td>0</td>\n",
       "      <td>0</td>\n",
       "      <td>1</td>\n",
       "    </tr>\n",
       "    <tr>\n",
       "      <th>2</th>\n",
       "      <td>0.0</td>\n",
       "      <td>1.0</td>\n",
       "      <td>1.0</td>\n",
       "      <td>0</td>\n",
       "      <td>1</td>\n",
       "      <td>0</td>\n",
       "      <td>0</td>\n",
       "      <td>0</td>\n",
       "      <td>300.0</td>\n",
       "      <td>10.0</td>\n",
       "      <td>...</td>\n",
       "      <td>0</td>\n",
       "      <td>0</td>\n",
       "      <td>0</td>\n",
       "      <td>0</td>\n",
       "      <td>0</td>\n",
       "      <td>0</td>\n",
       "      <td>0</td>\n",
       "      <td>0</td>\n",
       "      <td>0</td>\n",
       "      <td>1</td>\n",
       "    </tr>\n",
       "    <tr>\n",
       "      <th>3</th>\n",
       "      <td>0.0</td>\n",
       "      <td>0.0</td>\n",
       "      <td>1.0</td>\n",
       "      <td>1</td>\n",
       "      <td>1</td>\n",
       "      <td>1</td>\n",
       "      <td>0</td>\n",
       "      <td>0</td>\n",
       "      <td>100.0</td>\n",
       "      <td>25.0</td>\n",
       "      <td>...</td>\n",
       "      <td>0</td>\n",
       "      <td>0</td>\n",
       "      <td>0</td>\n",
       "      <td>0</td>\n",
       "      <td>0</td>\n",
       "      <td>0</td>\n",
       "      <td>0</td>\n",
       "      <td>0</td>\n",
       "      <td>0</td>\n",
       "      <td>1</td>\n",
       "    </tr>\n",
       "    <tr>\n",
       "      <th>4</th>\n",
       "      <td>0.0</td>\n",
       "      <td>1.0</td>\n",
       "      <td>1.0</td>\n",
       "      <td>1</td>\n",
       "      <td>1</td>\n",
       "      <td>1</td>\n",
       "      <td>0</td>\n",
       "      <td>0</td>\n",
       "      <td>100.0</td>\n",
       "      <td>20.0</td>\n",
       "      <td>...</td>\n",
       "      <td>0</td>\n",
       "      <td>0</td>\n",
       "      <td>0</td>\n",
       "      <td>0</td>\n",
       "      <td>0</td>\n",
       "      <td>0</td>\n",
       "      <td>0</td>\n",
       "      <td>0</td>\n",
       "      <td>0</td>\n",
       "      <td>1</td>\n",
       "    </tr>\n",
       "  </tbody>\n",
       "</table>\n",
       "<p>5 rows × 251 columns</p>\n",
       "</div>"
      ],
      "text/plain": [
       "   host_is_superhost  host_identity_verified  host_has_profile_pic  \\\n",
       "0                0.0                     1.0                   1.0   \n",
       "1                0.0                     0.0                   1.0   \n",
       "2                0.0                     1.0                   1.0   \n",
       "3                0.0                     0.0                   1.0   \n",
       "4                0.0                     1.0                   1.0   \n",
       "\n",
       "   is_location_exact  requires_license  instant_bookable  \\\n",
       "0                  1                 1                 0   \n",
       "1                  0                 1                 1   \n",
       "2                  0                 1                 0   \n",
       "3                  1                 1                 1   \n",
       "4                  1                 1                 1   \n",
       "\n",
       "   require_guest_profile_picture  require_guest_phone_verification  \\\n",
       "0                              0                                 0   \n",
       "1                              0                                 0   \n",
       "2                              0                                 0   \n",
       "3                              0                                 0   \n",
       "4                              0                                 0   \n",
       "\n",
       "   security_deposit  cleaning_fee  ...  la Vila Olímpica del Poblenou  \\\n",
       "0               0.0          15.0  ...                              0   \n",
       "1               0.0          25.0  ...                              0   \n",
       "2             300.0          10.0  ...                              0   \n",
       "3             100.0          25.0  ...                              0   \n",
       "4             100.0          20.0  ...                              0   \n",
       "\n",
       "   la Vila de Gràcia  les Corts  les Roquetes  les Tres Torres  Airbed  Couch  \\\n",
       "0                  0          0             0                0       0      0   \n",
       "1                  0          0             0                0       0      0   \n",
       "2                  0          0             0                0       0      0   \n",
       "3                  0          0             0                0       0      0   \n",
       "4                  0          0             0                0       0      0   \n",
       "\n",
       "   Futon  Pull-out Sofa  Real Bed  \n",
       "0      0              0         1  \n",
       "1      0              0         1  \n",
       "2      0              0         1  \n",
       "3      0              0         1  \n",
       "4      0              0         1  \n",
       "\n",
       "[5 rows x 251 columns]"
      ]
     },
     "execution_count": 15,
     "metadata": {},
     "output_type": "execute_result"
    }
   ],
   "source": [
    "listings_new.head()"
   ]
  },
  {
   "cell_type": "code",
   "execution_count": 16,
   "id": "4d0cd6cb",
   "metadata": {},
   "outputs": [],
   "source": [
    "from sklearn.model_selection import train_test_split\n",
    "from sklearn.metrics import mean_squared_error\n",
    "from sklearn.metrics import r2_score\n",
    "from sklearn.ensemble import RandomForestRegressor"
   ]
  },
  {
   "cell_type": "code",
   "execution_count": 17,
   "id": "5fa06d03",
   "metadata": {},
   "outputs": [],
   "source": [
    "y=listings_new['price']\n",
    "x=listings_new.drop('price',axis=1)\n",
    "X_train,X_test,y_train,y_test=train_test_split(x,y,test_size=0.25,random_state=1)"
   ]
  },
  {
   "cell_type": "code",
   "execution_count": 18,
   "id": "1e79c636",
   "metadata": {},
   "outputs": [
    {
     "ename": "TypeError",
     "evalue": "Feature names are only supported if all input features have string names, but your input has ['float', 'str'] as feature name / column name types. If you want feature names to be stored and validated, you must convert them all to strings, by using X.columns = X.columns.astype(str) for example. Otherwise you can remove feature / column names from your input data, or convert them all to a non-string data type.",
     "output_type": "error",
     "traceback": [
      "\u001b[0;31m---------------------------------------------------------------------------\u001b[0m",
      "\u001b[0;31mTypeError\u001b[0m                                 Traceback (most recent call last)",
      "Cell \u001b[0;32mIn[18], line 3\u001b[0m\n\u001b[1;32m      1\u001b[0m \u001b[38;5;28;01mfrom\u001b[39;00m \u001b[38;5;21;01msklearn\u001b[39;00m\u001b[38;5;21;01m.\u001b[39;00m\u001b[38;5;21;01mpreprocessing\u001b[39;00m \u001b[38;5;28;01mimport\u001b[39;00m StandardScaler\n\u001b[1;32m      2\u001b[0m std\u001b[38;5;241m=\u001b[39mStandardScaler()\n\u001b[0;32m----> 3\u001b[0m X_fit\u001b[38;5;241m=\u001b[39m\u001b[43mstd\u001b[49m\u001b[38;5;241;43m.\u001b[39;49m\u001b[43mfit\u001b[49m\u001b[43m(\u001b[49m\u001b[43mX_train\u001b[49m\u001b[43m)\u001b[49m\n\u001b[1;32m      4\u001b[0m X_train\u001b[38;5;241m=\u001b[39mX_fit\u001b[38;5;241m.\u001b[39mtransform(X_train)\n\u001b[1;32m      5\u001b[0m X_test\u001b[38;5;241m=\u001b[39mX_fit\u001b[38;5;241m.\u001b[39mtransform(X_test)\n",
      "File \u001b[0;32m~/opt/miniconda3/envs/d2l/lib/python3.10/site-packages/sklearn/preprocessing/_data.py:824\u001b[0m, in \u001b[0;36mStandardScaler.fit\u001b[0;34m(self, X, y, sample_weight)\u001b[0m\n\u001b[1;32m    822\u001b[0m \u001b[38;5;66;03m# Reset internal state before fitting\u001b[39;00m\n\u001b[1;32m    823\u001b[0m \u001b[38;5;28mself\u001b[39m\u001b[38;5;241m.\u001b[39m_reset()\n\u001b[0;32m--> 824\u001b[0m \u001b[38;5;28;01mreturn\u001b[39;00m \u001b[38;5;28;43mself\u001b[39;49m\u001b[38;5;241;43m.\u001b[39;49m\u001b[43mpartial_fit\u001b[49m\u001b[43m(\u001b[49m\u001b[43mX\u001b[49m\u001b[43m,\u001b[49m\u001b[43m \u001b[49m\u001b[43my\u001b[49m\u001b[43m,\u001b[49m\u001b[43m \u001b[49m\u001b[43msample_weight\u001b[49m\u001b[43m)\u001b[49m\n",
      "File \u001b[0;32m~/opt/miniconda3/envs/d2l/lib/python3.10/site-packages/sklearn/preprocessing/_data.py:861\u001b[0m, in \u001b[0;36mStandardScaler.partial_fit\u001b[0;34m(self, X, y, sample_weight)\u001b[0m\n\u001b[1;32m    858\u001b[0m \u001b[38;5;28mself\u001b[39m\u001b[38;5;241m.\u001b[39m_validate_params()\n\u001b[1;32m    860\u001b[0m first_call \u001b[38;5;241m=\u001b[39m \u001b[38;5;129;01mnot\u001b[39;00m \u001b[38;5;28mhasattr\u001b[39m(\u001b[38;5;28mself\u001b[39m, \u001b[38;5;124m\"\u001b[39m\u001b[38;5;124mn_samples_seen_\u001b[39m\u001b[38;5;124m\"\u001b[39m)\n\u001b[0;32m--> 861\u001b[0m X \u001b[38;5;241m=\u001b[39m \u001b[38;5;28;43mself\u001b[39;49m\u001b[38;5;241;43m.\u001b[39;49m\u001b[43m_validate_data\u001b[49m\u001b[43m(\u001b[49m\n\u001b[1;32m    862\u001b[0m \u001b[43m    \u001b[49m\u001b[43mX\u001b[49m\u001b[43m,\u001b[49m\n\u001b[1;32m    863\u001b[0m \u001b[43m    \u001b[49m\u001b[43maccept_sparse\u001b[49m\u001b[38;5;241;43m=\u001b[39;49m\u001b[43m(\u001b[49m\u001b[38;5;124;43m\"\u001b[39;49m\u001b[38;5;124;43mcsr\u001b[39;49m\u001b[38;5;124;43m\"\u001b[39;49m\u001b[43m,\u001b[49m\u001b[43m \u001b[49m\u001b[38;5;124;43m\"\u001b[39;49m\u001b[38;5;124;43mcsc\u001b[39;49m\u001b[38;5;124;43m\"\u001b[39;49m\u001b[43m)\u001b[49m\u001b[43m,\u001b[49m\n\u001b[1;32m    864\u001b[0m \u001b[43m    \u001b[49m\u001b[43mdtype\u001b[49m\u001b[38;5;241;43m=\u001b[39;49m\u001b[43mFLOAT_DTYPES\u001b[49m\u001b[43m,\u001b[49m\n\u001b[1;32m    865\u001b[0m \u001b[43m    \u001b[49m\u001b[43mforce_all_finite\u001b[49m\u001b[38;5;241;43m=\u001b[39;49m\u001b[38;5;124;43m\"\u001b[39;49m\u001b[38;5;124;43mallow-nan\u001b[39;49m\u001b[38;5;124;43m\"\u001b[39;49m\u001b[43m,\u001b[49m\n\u001b[1;32m    866\u001b[0m \u001b[43m    \u001b[49m\u001b[43mreset\u001b[49m\u001b[38;5;241;43m=\u001b[39;49m\u001b[43mfirst_call\u001b[49m\u001b[43m,\u001b[49m\n\u001b[1;32m    867\u001b[0m \u001b[43m\u001b[49m\u001b[43m)\u001b[49m\n\u001b[1;32m    868\u001b[0m n_features \u001b[38;5;241m=\u001b[39m X\u001b[38;5;241m.\u001b[39mshape[\u001b[38;5;241m1\u001b[39m]\n\u001b[1;32m    870\u001b[0m \u001b[38;5;28;01mif\u001b[39;00m sample_weight \u001b[38;5;129;01mis\u001b[39;00m \u001b[38;5;129;01mnot\u001b[39;00m \u001b[38;5;28;01mNone\u001b[39;00m:\n",
      "File \u001b[0;32m~/opt/miniconda3/envs/d2l/lib/python3.10/site-packages/sklearn/base.py:529\u001b[0m, in \u001b[0;36mBaseEstimator._validate_data\u001b[0;34m(self, X, y, reset, validate_separately, **check_params)\u001b[0m\n\u001b[1;32m    464\u001b[0m \u001b[38;5;28;01mdef\u001b[39;00m \u001b[38;5;21m_validate_data\u001b[39m(\n\u001b[1;32m    465\u001b[0m     \u001b[38;5;28mself\u001b[39m,\n\u001b[1;32m    466\u001b[0m     X\u001b[38;5;241m=\u001b[39m\u001b[38;5;124m\"\u001b[39m\u001b[38;5;124mno_validation\u001b[39m\u001b[38;5;124m\"\u001b[39m,\n\u001b[0;32m   (...)\u001b[0m\n\u001b[1;32m    470\u001b[0m     \u001b[38;5;241m*\u001b[39m\u001b[38;5;241m*\u001b[39mcheck_params,\n\u001b[1;32m    471\u001b[0m ):\n\u001b[1;32m    472\u001b[0m     \u001b[38;5;124;03m\"\"\"Validate input data and set or check the `n_features_in_` attribute.\u001b[39;00m\n\u001b[1;32m    473\u001b[0m \n\u001b[1;32m    474\u001b[0m \u001b[38;5;124;03m    Parameters\u001b[39;00m\n\u001b[0;32m   (...)\u001b[0m\n\u001b[1;32m    527\u001b[0m \u001b[38;5;124;03m        validated.\u001b[39;00m\n\u001b[1;32m    528\u001b[0m \u001b[38;5;124;03m    \"\"\"\u001b[39;00m\n\u001b[0;32m--> 529\u001b[0m     \u001b[38;5;28;43mself\u001b[39;49m\u001b[38;5;241;43m.\u001b[39;49m\u001b[43m_check_feature_names\u001b[49m\u001b[43m(\u001b[49m\u001b[43mX\u001b[49m\u001b[43m,\u001b[49m\u001b[43m \u001b[49m\u001b[43mreset\u001b[49m\u001b[38;5;241;43m=\u001b[39;49m\u001b[43mreset\u001b[49m\u001b[43m)\u001b[49m\n\u001b[1;32m    531\u001b[0m     \u001b[38;5;28;01mif\u001b[39;00m y \u001b[38;5;129;01mis\u001b[39;00m \u001b[38;5;28;01mNone\u001b[39;00m \u001b[38;5;129;01mand\u001b[39;00m \u001b[38;5;28mself\u001b[39m\u001b[38;5;241m.\u001b[39m_get_tags()[\u001b[38;5;124m\"\u001b[39m\u001b[38;5;124mrequires_y\u001b[39m\u001b[38;5;124m\"\u001b[39m]:\n\u001b[1;32m    532\u001b[0m         \u001b[38;5;28;01mraise\u001b[39;00m \u001b[38;5;167;01mValueError\u001b[39;00m(\n\u001b[1;32m    533\u001b[0m             \u001b[38;5;124mf\u001b[39m\u001b[38;5;124m\"\u001b[39m\u001b[38;5;124mThis \u001b[39m\u001b[38;5;132;01m{\u001b[39;00m\u001b[38;5;28mself\u001b[39m\u001b[38;5;241m.\u001b[39m\u001b[38;5;18m__class__\u001b[39m\u001b[38;5;241m.\u001b[39m\u001b[38;5;18m__name__\u001b[39m\u001b[38;5;132;01m}\u001b[39;00m\u001b[38;5;124m estimator \u001b[39m\u001b[38;5;124m\"\u001b[39m\n\u001b[1;32m    534\u001b[0m             \u001b[38;5;124m\"\u001b[39m\u001b[38;5;124mrequires y to be passed, but the target y is None.\u001b[39m\u001b[38;5;124m\"\u001b[39m\n\u001b[1;32m    535\u001b[0m         )\n",
      "File \u001b[0;32m~/opt/miniconda3/envs/d2l/lib/python3.10/site-packages/sklearn/base.py:396\u001b[0m, in \u001b[0;36mBaseEstimator._check_feature_names\u001b[0;34m(self, X, reset)\u001b[0m\n\u001b[1;32m    376\u001b[0m \u001b[38;5;124;03m\"\"\"Set or check the `feature_names_in_` attribute.\u001b[39;00m\n\u001b[1;32m    377\u001b[0m \n\u001b[1;32m    378\u001b[0m \u001b[38;5;124;03m.. versionadded:: 1.0\u001b[39;00m\n\u001b[0;32m   (...)\u001b[0m\n\u001b[1;32m    392\u001b[0m \u001b[38;5;124;03m       should set `reset=False`.\u001b[39;00m\n\u001b[1;32m    393\u001b[0m \u001b[38;5;124;03m\"\"\"\u001b[39;00m\n\u001b[1;32m    395\u001b[0m \u001b[38;5;28;01mif\u001b[39;00m reset:\n\u001b[0;32m--> 396\u001b[0m     feature_names_in \u001b[38;5;241m=\u001b[39m \u001b[43m_get_feature_names\u001b[49m\u001b[43m(\u001b[49m\u001b[43mX\u001b[49m\u001b[43m)\u001b[49m\n\u001b[1;32m    397\u001b[0m     \u001b[38;5;28;01mif\u001b[39;00m feature_names_in \u001b[38;5;129;01mis\u001b[39;00m \u001b[38;5;129;01mnot\u001b[39;00m \u001b[38;5;28;01mNone\u001b[39;00m:\n\u001b[1;32m    398\u001b[0m         \u001b[38;5;28mself\u001b[39m\u001b[38;5;241m.\u001b[39mfeature_names_in_ \u001b[38;5;241m=\u001b[39m feature_names_in\n",
      "File \u001b[0;32m~/opt/miniconda3/envs/d2l/lib/python3.10/site-packages/sklearn/utils/validation.py:1903\u001b[0m, in \u001b[0;36m_get_feature_names\u001b[0;34m(X)\u001b[0m\n\u001b[1;32m   1901\u001b[0m \u001b[38;5;66;03m# mixed type of string and non-string is not supported\u001b[39;00m\n\u001b[1;32m   1902\u001b[0m \u001b[38;5;28;01mif\u001b[39;00m \u001b[38;5;28mlen\u001b[39m(types) \u001b[38;5;241m>\u001b[39m \u001b[38;5;241m1\u001b[39m \u001b[38;5;129;01mand\u001b[39;00m \u001b[38;5;124m\"\u001b[39m\u001b[38;5;124mstr\u001b[39m\u001b[38;5;124m\"\u001b[39m \u001b[38;5;129;01min\u001b[39;00m types:\n\u001b[0;32m-> 1903\u001b[0m     \u001b[38;5;28;01mraise\u001b[39;00m \u001b[38;5;167;01mTypeError\u001b[39;00m(\n\u001b[1;32m   1904\u001b[0m         \u001b[38;5;124m\"\u001b[39m\u001b[38;5;124mFeature names are only supported if all input features have string names, \u001b[39m\u001b[38;5;124m\"\u001b[39m\n\u001b[1;32m   1905\u001b[0m         \u001b[38;5;124mf\u001b[39m\u001b[38;5;124m\"\u001b[39m\u001b[38;5;124mbut your input has \u001b[39m\u001b[38;5;132;01m{\u001b[39;00mtypes\u001b[38;5;132;01m}\u001b[39;00m\u001b[38;5;124m as feature name / column name types. \u001b[39m\u001b[38;5;124m\"\u001b[39m\n\u001b[1;32m   1906\u001b[0m         \u001b[38;5;124m\"\u001b[39m\u001b[38;5;124mIf you want feature names to be stored and validated, you must convert \u001b[39m\u001b[38;5;124m\"\u001b[39m\n\u001b[1;32m   1907\u001b[0m         \u001b[38;5;124m\"\u001b[39m\u001b[38;5;124mthem all to strings, by using X.columns = X.columns.astype(str) for \u001b[39m\u001b[38;5;124m\"\u001b[39m\n\u001b[1;32m   1908\u001b[0m         \u001b[38;5;124m\"\u001b[39m\u001b[38;5;124mexample. Otherwise you can remove feature / column names from your input \u001b[39m\u001b[38;5;124m\"\u001b[39m\n\u001b[1;32m   1909\u001b[0m         \u001b[38;5;124m\"\u001b[39m\u001b[38;5;124mdata, or convert them all to a non-string data type.\u001b[39m\u001b[38;5;124m\"\u001b[39m\n\u001b[1;32m   1910\u001b[0m     )\n\u001b[1;32m   1912\u001b[0m \u001b[38;5;66;03m# Only feature names of all strings are supported\u001b[39;00m\n\u001b[1;32m   1913\u001b[0m \u001b[38;5;28;01mif\u001b[39;00m \u001b[38;5;28mlen\u001b[39m(types) \u001b[38;5;241m==\u001b[39m \u001b[38;5;241m1\u001b[39m \u001b[38;5;129;01mand\u001b[39;00m types[\u001b[38;5;241m0\u001b[39m] \u001b[38;5;241m==\u001b[39m \u001b[38;5;124m\"\u001b[39m\u001b[38;5;124mstr\u001b[39m\u001b[38;5;124m\"\u001b[39m:\n",
      "\u001b[0;31mTypeError\u001b[0m: Feature names are only supported if all input features have string names, but your input has ['float', 'str'] as feature name / column name types. If you want feature names to be stored and validated, you must convert them all to strings, by using X.columns = X.columns.astype(str) for example. Otherwise you can remove feature / column names from your input data, or convert them all to a non-string data type."
     ]
    }
   ],
   "source": [
    "from sklearn.preprocessing import StandardScaler\n",
    "std=StandardScaler()\n",
    "X_fit=std.fit(X_train)\n",
    "X_train=X_fit.transform(X_train)\n",
    "X_test=X_fit.transform(X_test)"
   ]
  },
  {
   "cell_type": "code",
   "execution_count": 16,
   "id": "320415cb",
   "metadata": {},
   "outputs": [],
   "source": [
    "rf=RandomForestRegressor(n_estimators=500,n_jobs=-1)\n",
    "rf.fit(X_train,y_train)\n",
    "y_train_predict=rf.predict(X_train)\n",
    "y_test_predict=rf.predict(X_test)\n",
    "rmse_rf=mean_squared_error(y_test,y_test_predict)**(1/2)"
   ]
  },
  {
   "cell_type": "code",
   "execution_count": 17,
   "id": "69c9816c",
   "metadata": {},
   "outputs": [
    {
     "data": {
      "text/plain": [
       "45.70155101813467"
      ]
     },
     "execution_count": 17,
     "metadata": {},
     "output_type": "execute_result"
    }
   ],
   "source": [
    "rmse_rf"
   ]
  },
  {
   "cell_type": "code",
   "execution_count": 18,
   "id": "d42aeacf",
   "metadata": {},
   "outputs": [
    {
     "data": {
      "text/plain": [
       "0.6361142209724786"
      ]
     },
     "execution_count": 18,
     "metadata": {},
     "output_type": "execute_result"
    }
   ],
   "source": [
    "r2_score(y_test,y_test_predict)"
   ]
  },
  {
   "cell_type": "code",
   "execution_count": 19,
   "id": "a7ba2ea5",
   "metadata": {},
   "outputs": [],
   "source": [
    "from lightgbm import LGBMRegressor"
   ]
  },
  {
   "cell_type": "code",
   "execution_count": 20,
   "id": "dbf3a803",
   "metadata": {},
   "outputs": [],
   "source": [
    "fit_params={\n",
    "    'early_stopping_rounds':10,\n",
    "    'eval_metric':'rmse',\n",
    "    'eval_set':[(X_test,y_test)],\n",
    "    'eval_names':['valid'],\n",
    "    'verbose':100\n",
    "}"
   ]
  },
  {
   "cell_type": "code",
   "execution_count": 21,
   "id": "235694ab",
   "metadata": {},
   "outputs": [
    {
     "ename": "TypeError",
     "evalue": "LGBMRegressor.fit() got an unexpected keyword argument 'early_stopping_rounds'",
     "output_type": "error",
     "traceback": [
      "\u001b[0;31m---------------------------------------------------------------------------\u001b[0m",
      "\u001b[0;31mTypeError\u001b[0m                                 Traceback (most recent call last)",
      "Cell \u001b[0;32mIn[21], line 2\u001b[0m\n\u001b[1;32m      1\u001b[0m lgb\u001b[38;5;241m=\u001b[39mLGBMRegressor(max_depth\u001b[38;5;241m=\u001b[39m\u001b[38;5;241m20\u001b[39m,learning_rate\u001b[38;5;241m=\u001b[39m\u001b[38;5;241m0.01\u001b[39m,n_estimators\u001b[38;5;241m=\u001b[39m\u001b[38;5;241m1000\u001b[39m)\n\u001b[0;32m----> 2\u001b[0m \u001b[43mlgb\u001b[49m\u001b[38;5;241;43m.\u001b[39;49m\u001b[43mfit\u001b[49m\u001b[43m(\u001b[49m\u001b[43mX_train\u001b[49m\u001b[43m,\u001b[49m\u001b[43my_train\u001b[49m\u001b[43m,\u001b[49m\u001b[38;5;241;43m*\u001b[39;49m\u001b[38;5;241;43m*\u001b[39;49m\u001b[43mfit_params\u001b[49m\u001b[43m)\u001b[49m\n",
      "\u001b[0;31mTypeError\u001b[0m: LGBMRegressor.fit() got an unexpected keyword argument 'early_stopping_rounds'"
     ]
    }
   ],
   "source": [
    "lgb=LGBMRegressor(max_depth=20,learning_rate=0.01,n_estimators=1000)\n",
    "lgb.fit(X_train,y_train,**fit_params)"
   ]
  },
  {
   "cell_type": "code",
   "execution_count": 64,
   "id": "8036862a",
   "metadata": {},
   "outputs": [],
   "source": [
    "y_pred=lgb.predict(X_test)"
   ]
  },
  {
   "cell_type": "code",
   "execution_count": 67,
   "id": "a850654e",
   "metadata": {},
   "outputs": [
    {
     "data": {
      "text/plain": [
       "0.6739676061684816"
      ]
     },
     "execution_count": 67,
     "metadata": {},
     "output_type": "execute_result"
    }
   ],
   "source": [
    "r2_score(y_test,y_pred)"
   ]
  },
  {
   "cell_type": "code",
   "execution_count": 23,
   "id": "138060ff",
   "metadata": {},
   "outputs": [],
   "source": [
    "reviews=pd.read_csv('./data/reviews.csv.gz',parse_dates=['date'])"
   ]
  },
  {
   "cell_type": "code",
   "execution_count": 24,
   "id": "cb2f21e5",
   "metadata": {},
   "outputs": [],
   "source": [
    "reviews['year']=reviews['date'].dt.year\n",
    "reviews['month']=reviews['date'].dt.month"
   ]
  },
  {
   "cell_type": "code",
   "execution_count": 25,
   "id": "586568a4",
   "metadata": {},
   "outputs": [
    {
     "data": {
      "text/plain": [
       "year\n",
       "2010        47\n",
       "2011       798\n",
       "2012      3896\n",
       "2013     13957\n",
       "2014     42071\n",
       "2015     96211\n",
       "2016    200531\n",
       "2017     53860\n",
       "dtype: int64"
      ]
     },
     "execution_count": 25,
     "metadata": {},
     "output_type": "execute_result"
    }
   ],
   "source": [
    "reviews.groupby('year').size()"
   ]
  },
  {
   "cell_type": "code",
   "execution_count": 30,
   "id": "b30b5a37",
   "metadata": {},
   "outputs": [
    {
     "data": {
      "text/plain": [
       "<AxesSubplot:xlabel='month'>"
      ]
     },
     "execution_count": 30,
     "metadata": {},
     "output_type": "execute_result"
    },
    {
     "data": {
      "image/png": "[encoded data removed]",
      "text/plain": [
       "<Figure size 640x480 with 1 Axes>"
      ]
     },
     "metadata": {},
     "output_type": "display_data"
    }
   ],
   "source": [
    "n_reviews_months=reviews.groupby('month').size()\n",
    "sns.barplot(x=n_reviews_months.index,y=n_reviews_months.values)"
   ]
  },
  {
   "cell_type": "code",
   "execution_count": 32,
   "id": "00294c36",
   "metadata": {},
   "outputs": [
    {
     "data": {
      "text/html": [
       "<div>\n",
       "<style scoped>\n",
       "    .dataframe tbody tr th:only-of-type {\n",
       "        vertical-align: middle;\n",
       "    }\n",
       "\n",
       "    .dataframe tbody tr th {\n",
       "        vertical-align: top;\n",
       "    }\n",
       "\n",
       "    .dataframe thead th {\n",
       "        text-align: right;\n",
       "    }\n",
       "</style>\n",
       "<table border=\"1\" class=\"dataframe\">\n",
       "  <thead>\n",
       "    <tr style=\"text-align: right;\">\n",
       "      <th>month</th>\n",
       "      <th>1</th>\n",
       "      <th>2</th>\n",
       "      <th>3</th>\n",
       "      <th>4</th>\n",
       "      <th>5</th>\n",
       "      <th>6</th>\n",
       "      <th>7</th>\n",
       "      <th>8</th>\n",
       "      <th>9</th>\n",
       "      <th>10</th>\n",
       "      <th>11</th>\n",
       "      <th>12</th>\n",
       "    </tr>\n",
       "    <tr>\n",
       "      <th>year</th>\n",
       "      <th></th>\n",
       "      <th></th>\n",
       "      <th></th>\n",
       "      <th></th>\n",
       "      <th></th>\n",
       "      <th></th>\n",
       "      <th></th>\n",
       "      <th></th>\n",
       "      <th></th>\n",
       "      <th></th>\n",
       "      <th></th>\n",
       "      <th></th>\n",
       "    </tr>\n",
       "  </thead>\n",
       "  <tbody>\n",
       "    <tr>\n",
       "      <th>2010</th>\n",
       "      <td>0.0</td>\n",
       "      <td>2.0</td>\n",
       "      <td>0.0</td>\n",
       "      <td>1.0</td>\n",
       "      <td>3.0</td>\n",
       "      <td>4.0</td>\n",
       "      <td>2.0</td>\n",
       "      <td>8.0</td>\n",
       "      <td>15.0</td>\n",
       "      <td>9.0</td>\n",
       "      <td>1.0</td>\n",
       "      <td>2.0</td>\n",
       "    </tr>\n",
       "    <tr>\n",
       "      <th>2011</th>\n",
       "      <td>7.0</td>\n",
       "      <td>8.0</td>\n",
       "      <td>15.0</td>\n",
       "      <td>36.0</td>\n",
       "      <td>59.0</td>\n",
       "      <td>81.0</td>\n",
       "      <td>94.0</td>\n",
       "      <td>104.0</td>\n",
       "      <td>129.0</td>\n",
       "      <td>117.0</td>\n",
       "      <td>91.0</td>\n",
       "      <td>57.0</td>\n",
       "    </tr>\n",
       "    <tr>\n",
       "      <th>2012</th>\n",
       "      <td>93.0</td>\n",
       "      <td>76.0</td>\n",
       "      <td>185.0</td>\n",
       "      <td>259.0</td>\n",
       "      <td>360.0</td>\n",
       "      <td>418.0</td>\n",
       "      <td>478.0</td>\n",
       "      <td>491.0</td>\n",
       "      <td>506.0</td>\n",
       "      <td>502.0</td>\n",
       "      <td>310.0</td>\n",
       "      <td>218.0</td>\n",
       "    </tr>\n",
       "    <tr>\n",
       "      <th>2013</th>\n",
       "      <td>293.0</td>\n",
       "      <td>316.0</td>\n",
       "      <td>656.0</td>\n",
       "      <td>964.0</td>\n",
       "      <td>1466.0</td>\n",
       "      <td>1471.0</td>\n",
       "      <td>1591.0</td>\n",
       "      <td>1698.0</td>\n",
       "      <td>1826.0</td>\n",
       "      <td>1770.0</td>\n",
       "      <td>1059.0</td>\n",
       "      <td>847.0</td>\n",
       "    </tr>\n",
       "    <tr>\n",
       "      <th>2014</th>\n",
       "      <td>1084.0</td>\n",
       "      <td>1198.0</td>\n",
       "      <td>1937.0</td>\n",
       "      <td>2787.0</td>\n",
       "      <td>3743.0</td>\n",
       "      <td>4316.0</td>\n",
       "      <td>4609.0</td>\n",
       "      <td>5469.0</td>\n",
       "      <td>5530.0</td>\n",
       "      <td>5510.0</td>\n",
       "      <td>3344.0</td>\n",
       "      <td>2544.0</td>\n",
       "    </tr>\n",
       "    <tr>\n",
       "      <th>2015</th>\n",
       "      <td>3133.0</td>\n",
       "      <td>2915.0</td>\n",
       "      <td>5599.0</td>\n",
       "      <td>7385.0</td>\n",
       "      <td>9718.0</td>\n",
       "      <td>10349.0</td>\n",
       "      <td>10641.0</td>\n",
       "      <td>11093.0</td>\n",
       "      <td>11286.0</td>\n",
       "      <td>11752.0</td>\n",
       "      <td>6790.0</td>\n",
       "      <td>5550.0</td>\n",
       "    </tr>\n",
       "    <tr>\n",
       "      <th>2016</th>\n",
       "      <td>7194.0</td>\n",
       "      <td>9391.0</td>\n",
       "      <td>10464.0</td>\n",
       "      <td>15949.0</td>\n",
       "      <td>19946.0</td>\n",
       "      <td>19888.0</td>\n",
       "      <td>21261.0</td>\n",
       "      <td>22343.0</td>\n",
       "      <td>22620.0</td>\n",
       "      <td>25233.0</td>\n",
       "      <td>14553.0</td>\n",
       "      <td>11689.0</td>\n",
       "    </tr>\n",
       "    <tr>\n",
       "      <th>2017</th>\n",
       "      <td>14097.0</td>\n",
       "      <td>14569.0</td>\n",
       "      <td>22209.0</td>\n",
       "      <td>2985.0</td>\n",
       "      <td>0.0</td>\n",
       "      <td>0.0</td>\n",
       "      <td>0.0</td>\n",
       "      <td>0.0</td>\n",
       "      <td>0.0</td>\n",
       "      <td>0.0</td>\n",
       "      <td>0.0</td>\n",
       "      <td>0.0</td>\n",
       "    </tr>\n",
       "  </tbody>\n",
       "</table>\n",
       "</div>"
      ],
      "text/plain": [
       "month       1        2        3        4        5        6        7        8   \\\n",
       "year                                                                            \n",
       "2010       0.0      2.0      0.0      1.0      3.0      4.0      2.0      8.0   \n",
       "2011       7.0      8.0     15.0     36.0     59.0     81.0     94.0    104.0   \n",
       "2012      93.0     76.0    185.0    259.0    360.0    418.0    478.0    491.0   \n",
       "2013     293.0    316.0    656.0    964.0   1466.0   1471.0   1591.0   1698.0   \n",
       "2014    1084.0   1198.0   1937.0   2787.0   3743.0   4316.0   4609.0   5469.0   \n",
       "2015    3133.0   2915.0   5599.0   7385.0   9718.0  10349.0  10641.0  11093.0   \n",
       "2016    7194.0   9391.0  10464.0  15949.0  19946.0  19888.0  21261.0  22343.0   \n",
       "2017   14097.0  14569.0  22209.0   2985.0      0.0      0.0      0.0      0.0   \n",
       "\n",
       "month       9        10       11       12  \n",
       "year                                       \n",
       "2010      15.0      9.0      1.0      2.0  \n",
       "2011     129.0    117.0     91.0     57.0  \n",
       "2012     506.0    502.0    310.0    218.0  \n",
       "2013    1826.0   1770.0   1059.0    847.0  \n",
       "2014    5530.0   5510.0   3344.0   2544.0  \n",
       "2015   11286.0  11752.0   6790.0   5550.0  \n",
       "2016   22620.0  25233.0  14553.0  11689.0  \n",
       "2017       0.0      0.0      0.0      0.0  "
      ]
     },
     "execution_count": 32,
     "metadata": {},
     "output_type": "execute_result"
    }
   ],
   "source": [
    "year_month_reviews=reviews.groupby(['year','month']).size().unstack('month').fillna(0)\n",
    "year_month_reviews"
   ]
  },
  {
   "cell_type": "code",
   "execution_count": 33,
   "id": "120c9411",
   "metadata": {},
   "outputs": [
    {
     "data": {
      "text/plain": [
       "[<matplotlib.axis.XTick at 0x7ff4980d3a60>,\n",
       " <matplotlib.axis.XTick at 0x7ff4980d3a30>,\n",
       " <matplotlib.axis.XTick at 0x7ff493003e80>,\n",
       " <matplotlib.axis.XTick at 0x7ff493019840>,\n",
       " <matplotlib.axis.XTick at 0x7ff493019f90>,\n",
       " <matplotlib.axis.XTick at 0x7ff49301a6e0>,\n",
       " <matplotlib.axis.XTick at 0x7ff4930190c0>,\n",
       " <matplotlib.axis.XTick at 0x7ff49301aec0>,\n",
       " <matplotlib.axis.XTick at 0x7ff4980d3910>,\n",
       " <matplotlib.axis.XTick at 0x7ff493090f10>,\n",
       " <matplotlib.axis.XTick at 0x7ff493091660>,\n",
       " <matplotlib.axis.XTick at 0x7ff493091c60>]"
      ]
     },
     "execution_count": 33,
     "metadata": {},
     "output_type": "execute_result"
    },
    {
     "data": {
      "image/png": "[encoded data removed]",
      "text/plain": [
       "<Figure size 1000x500 with 1 Axes>"
      ]
     },
     "metadata": {},
     "output_type": "display_data"
    }
   ],
   "source": [
    "fig,ax=plt.subplots(figsize=(10,5))\n",
    "for index in year_month_reviews.index:\n",
    "    series = year_month_reviews.loc[index]\n",
    "    sns.lineplot(x=series.index,y=series.values,ax=ax)\n",
    "    \n",
    "ax.legend(labels=year_month_reviews.index)\n",
    "ax.grid()\n",
    "ax.set_xticks(list(range(1,13)))\n"
   ]
  },
  {
   "cell_type": "code",
   "execution_count": null,
   "id": "f7b58674",
   "metadata": {},
   "outputs": [],
   "source": []
  }
 ],
 "metadata": {
  "kernelspec": {
   "display_name": "d2l",
   "language": "python",
   "name": "d2l"
  },
  "language_info": {
   "codemirror_mode": {
    "name": "ipython",
    "version": 3
   },
   "file_extension": ".py",
   "mimetype": "text/x-python",
   "name": "python",
   "nbconvert_exporter": "python",
   "pygments_lexer": "ipython3",
   "version": "3.10.4"
  }
 },
 "nbformat": 4,
 "nbformat_minor": 5
}
