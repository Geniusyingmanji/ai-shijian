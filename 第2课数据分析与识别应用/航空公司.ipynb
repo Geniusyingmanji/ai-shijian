{
 "cells": [
  {
   "cell_type": "code",
   "execution_count": 42,
   "id": "91463a06",
   "metadata": {},
   "outputs": [
    {
     "name": "stdout",
     "output_type": "stream",
     "text": [
      "                           count unique         top   freq          mean  \\\n",
      "MEMBER_NO                62988.0    NaN         NaN    NaN       31494.5   \n",
      "FFP_DATE                   62988   3068  2011/01/13    184           NaN   \n",
      "FIRST_FLIGHT_DATE          62988   3406  2013/02/16     96           NaN   \n",
      "GENDER                     62985      2           男  48134           NaN   \n",
      "FFP_TIER                 62988.0    NaN         NaN    NaN      4.102162   \n",
      "WORK_CITY                  60719   3310          广州   9385           NaN   \n",
      "WORK_PROVINCE              59740   1185          广东  17507           NaN   \n",
      "WORK_COUNTRY               62962    118          CN  57748           NaN   \n",
      "AGE                      62568.0    NaN         NaN    NaN     42.476346   \n",
      "LOAD_TIME                  62988      1  2014/03/31  62988           NaN   \n",
      "FLIGHT_COUNT             62988.0    NaN         NaN    NaN     11.839414   \n",
      "BP_SUM                   62988.0    NaN         NaN    NaN  10925.081254   \n",
      "EP_SUM_YR_1              62988.0    NaN         NaN    NaN           0.0   \n",
      "EP_SUM_YR_2              62988.0    NaN         NaN    NaN    265.689623   \n",
      "SUM_YR_1                 62437.0    NaN         NaN    NaN   5355.376064   \n",
      "SUM_YR_2                 62850.0    NaN         NaN    NaN   5604.026014   \n",
      "SEG_KM_SUM               62988.0    NaN         NaN    NaN  17123.878691   \n",
      "WEIGHTED_SEG_KM          62988.0    NaN         NaN    NaN  12777.152439   \n",
      "LAST_FLIGHT_DATE           62988    731  2014/03/31    959           NaN   \n",
      "AVG_FLIGHT_COUNT         62988.0    NaN         NaN    NaN      1.542154   \n",
      "AVG_BP_SUM               62988.0    NaN         NaN    NaN   1421.440249   \n",
      "BEGIN_TO_FIRST           62988.0    NaN         NaN    NaN    120.145488   \n",
      "LAST_TO_END              62988.0    NaN         NaN    NaN    176.120102   \n",
      "AVG_INTERVAL             62988.0    NaN         NaN    NaN     67.749788   \n",
      "MAX_INTERVAL             62988.0    NaN         NaN    NaN    166.033895   \n",
      "ADD_POINTS_SUM_YR_1      62988.0    NaN         NaN    NaN    540.316965   \n",
      "ADD_POINTS_SUM_YR_2      62988.0    NaN         NaN    NaN    814.689258   \n",
      "EXCHANGE_COUNT           62988.0    NaN         NaN    NaN      0.319775   \n",
      "avg_discount             62988.0    NaN         NaN    NaN      0.721558   \n",
      "P1Y_Flight_Count         62988.0    NaN         NaN    NaN      5.766257   \n",
      "L1Y_Flight_Count         62988.0    NaN         NaN    NaN      6.073157   \n",
      "P1Y_BP_SUM               62988.0    NaN         NaN    NaN    5366.72055   \n",
      "L1Y_BP_SUM               62988.0    NaN         NaN    NaN   5558.360704   \n",
      "EP_SUM                   62988.0    NaN         NaN    NaN    265.689623   \n",
      "ADD_Point_SUM            62988.0    NaN         NaN    NaN   1355.006223   \n",
      "Eli_Add_Point_Sum        62988.0    NaN         NaN    NaN   1620.695847   \n",
      "L1Y_ELi_Add_Points       62988.0    NaN         NaN    NaN   1080.378882   \n",
      "Points_Sum               62988.0    NaN         NaN    NaN    12545.7771   \n",
      "L1Y_Points_Sum           62988.0    NaN         NaN    NaN   6638.739585   \n",
      "Ration_L1Y_Flight_Count  62988.0    NaN         NaN    NaN      0.486419   \n",
      "Ration_P1Y_Flight_Count  62988.0    NaN         NaN    NaN      0.513581   \n",
      "Ration_P1Y_BPS           62988.0    NaN         NaN    NaN      0.522293   \n",
      "Ration_L1Y_BPS           62988.0    NaN         NaN    NaN      0.468422   \n",
      "Point_NotFlight          62988.0    NaN         NaN    NaN      2.728155   \n",
      "\n",
      "                                  std    min        50%        max  \n",
      "MEMBER_NO                18183.213715    1.0    31494.5    62988.0  \n",
      "FFP_DATE                          NaN    NaN        NaN        NaN  \n",
      "FIRST_FLIGHT_DATE                 NaN    NaN        NaN        NaN  \n",
      "GENDER                            NaN    NaN        NaN        NaN  \n",
      "FFP_TIER                     0.373856    4.0        4.0        6.0  \n",
      "WORK_CITY                         NaN    NaN        NaN        NaN  \n",
      "WORK_PROVINCE                     NaN    NaN        NaN        NaN  \n",
      "WORK_COUNTRY                      NaN    NaN        NaN        NaN  \n",
      "AGE                          9.885915    6.0       41.0      110.0  \n",
      "LOAD_TIME                         NaN    NaN        NaN        NaN  \n",
      "FLIGHT_COUNT                14.049471    2.0        7.0      213.0  \n",
      "BP_SUM                   16339.486151    0.0     5700.0   505308.0  \n",
      "EP_SUM_YR_1                       0.0    0.0        0.0        0.0  \n",
      "EP_SUM_YR_2               1645.702854    0.0        0.0    74460.0  \n",
      "SUM_YR_1                  8109.450147    0.0     2800.0   239560.0  \n",
      "SUM_YR_2                  8703.364247    0.0     2773.0   234188.0  \n",
      "SEG_KM_SUM               20960.844623  368.0     9994.0   580717.0  \n",
      "WEIGHTED_SEG_KM          17578.586695    0.0   6978.255  558440.14  \n",
      "LAST_FLIGHT_DATE                  NaN    NaN        NaN        NaN  \n",
      "AVG_FLIGHT_COUNT             1.786996   0.25      0.875     26.625  \n",
      "AVG_BP_SUM                2083.121324    0.0    752.375    63163.5  \n",
      "BEGIN_TO_FIRST             159.572867    0.0       50.0      729.0  \n",
      "LAST_TO_END                183.822223    1.0      108.0      731.0  \n",
      "AVG_INTERVAL                77.517866    0.0  44.666667      728.0  \n",
      "MAX_INTERVAL                123.39718    0.0      143.0      728.0  \n",
      "ADD_POINTS_SUM_YR_1       3956.083455    0.0        0.0   600000.0  \n",
      "ADD_POINTS_SUM_YR_2       5121.796929    0.0        0.0   728282.0  \n",
      "EXCHANGE_COUNT               1.136004    0.0        0.0       46.0  \n",
      "avg_discount                 0.185427    0.0   0.711856        1.5  \n",
      "P1Y_Flight_Count             7.210922    0.0        3.0      118.0  \n",
      "L1Y_Flight_Count             8.175127    0.0        3.0      111.0  \n",
      "P1Y_BP_SUM                8537.773021    0.0     2692.0   246197.0  \n",
      "L1Y_BP_SUM                9351.956952    0.0     2547.0   259111.0  \n",
      "EP_SUM                    1645.702854    0.0        0.0    74460.0  \n",
      "ADD_Point_SUM                7868.477    0.0        0.0   984938.0  \n",
      "Eli_Add_Point_Sum         8294.398955    0.0        0.0   984938.0  \n",
      "L1Y_ELi_Add_Points        5639.857254    0.0        0.0   728282.0  \n",
      "Points_Sum                 20507.8167    0.0     6328.5   985572.0  \n",
      "L1Y_Points_Sum           12601.819863    0.0     2860.5   728282.0  \n",
      "Ration_L1Y_Flight_Count      0.319105    0.0        0.5        1.0  \n",
      "Ration_P1Y_Flight_Count      0.319105    0.0        0.5        1.0  \n",
      "Ration_P1Y_BPS               0.339632    0.0   0.514252   0.999989  \n",
      "Ration_L1Y_BPS               0.338956    0.0   0.476747   0.999993  \n",
      "Point_NotFlight              7.364164    0.0        0.0      140.0  \n"
     ]
    },
    {
     "ename": "KeyError",
     "evalue": "\"['null'] not in index\"",
     "output_type": "error",
     "traceback": [
      "\u001b[0;31m---------------------------------------------------------------------------\u001b[0m",
      "\u001b[0;31mKeyError\u001b[0m                                  Traceback (most recent call last)",
      "Cell \u001b[0;32mIn[42], line 13\u001b[0m\n\u001b[1;32m     10\u001b[0m explore\u001b[38;5;241m=\u001b[39mdata\u001b[38;5;241m.\u001b[39mdescribe(percentiles\u001b[38;5;241m=\u001b[39m[],include\u001b[38;5;241m=\u001b[39m\u001b[38;5;124m'\u001b[39m\u001b[38;5;124mall\u001b[39m\u001b[38;5;124m'\u001b[39m)\u001b[38;5;241m.\u001b[39mT\n\u001b[1;32m     11\u001b[0m \u001b[38;5;28mprint\u001b[39m(explore)\n\u001b[0;32m---> 13\u001b[0m explore1\u001b[38;5;241m=\u001b[39m\u001b[43mexplore\u001b[49m\u001b[43m[\u001b[49m\u001b[43m[\u001b[49m\u001b[38;5;124;43m'\u001b[39;49m\u001b[38;5;124;43mnull\u001b[39;49m\u001b[38;5;124;43m'\u001b[39;49m\u001b[43m,\u001b[49m\u001b[38;5;124;43m'\u001b[39;49m\u001b[38;5;124;43mmax\u001b[39;49m\u001b[38;5;124;43m'\u001b[39;49m\u001b[43m,\u001b[49m\u001b[38;5;124;43m'\u001b[39;49m\u001b[38;5;124;43mmin\u001b[39;49m\u001b[38;5;124;43m'\u001b[39;49m\u001b[43m]\u001b[49m\u001b[43m]\u001b[49m\n\u001b[1;32m     14\u001b[0m explore\u001b[38;5;241m.\u001b[39mcolumn\u001b[38;5;241m=\u001b[39m[\u001b[38;5;124mu\u001b[39m\u001b[38;5;124m'\u001b[39m\u001b[38;5;124m空值数\u001b[39m\u001b[38;5;124m'\u001b[39m,\u001b[38;5;124mu\u001b[39m\u001b[38;5;124m'\u001b[39m\u001b[38;5;124m最大值\u001b[39m\u001b[38;5;124m'\u001b[39m,\u001b[38;5;124mu\u001b[39m\u001b[38;5;124m'\u001b[39m\u001b[38;5;124m最小值\u001b[39m\u001b[38;5;124m'\u001b[39m]\n\u001b[1;32m     16\u001b[0m explore\u001b[38;5;241m.\u001b[39mto_excel(result)\n",
      "File \u001b[0;32m~/opt/miniconda3/envs/d2l/lib/python3.10/site-packages/pandas/core/frame.py:3813\u001b[0m, in \u001b[0;36mDataFrame.__getitem__\u001b[0;34m(self, key)\u001b[0m\n\u001b[1;32m   3811\u001b[0m     \u001b[38;5;28;01mif\u001b[39;00m is_iterator(key):\n\u001b[1;32m   3812\u001b[0m         key \u001b[38;5;241m=\u001b[39m \u001b[38;5;28mlist\u001b[39m(key)\n\u001b[0;32m-> 3813\u001b[0m     indexer \u001b[38;5;241m=\u001b[39m \u001b[38;5;28;43mself\u001b[39;49m\u001b[38;5;241;43m.\u001b[39;49m\u001b[43mcolumns\u001b[49m\u001b[38;5;241;43m.\u001b[39;49m\u001b[43m_get_indexer_strict\u001b[49m\u001b[43m(\u001b[49m\u001b[43mkey\u001b[49m\u001b[43m,\u001b[49m\u001b[43m \u001b[49m\u001b[38;5;124;43m\"\u001b[39;49m\u001b[38;5;124;43mcolumns\u001b[39;49m\u001b[38;5;124;43m\"\u001b[39;49m\u001b[43m)\u001b[49m[\u001b[38;5;241m1\u001b[39m]\n\u001b[1;32m   3815\u001b[0m \u001b[38;5;66;03m# take() does not accept boolean indexers\u001b[39;00m\n\u001b[1;32m   3816\u001b[0m \u001b[38;5;28;01mif\u001b[39;00m \u001b[38;5;28mgetattr\u001b[39m(indexer, \u001b[38;5;124m\"\u001b[39m\u001b[38;5;124mdtype\u001b[39m\u001b[38;5;124m\"\u001b[39m, \u001b[38;5;28;01mNone\u001b[39;00m) \u001b[38;5;241m==\u001b[39m \u001b[38;5;28mbool\u001b[39m:\n",
      "File \u001b[0;32m~/opt/miniconda3/envs/d2l/lib/python3.10/site-packages/pandas/core/indexes/base.py:6070\u001b[0m, in \u001b[0;36mIndex._get_indexer_strict\u001b[0;34m(self, key, axis_name)\u001b[0m\n\u001b[1;32m   6067\u001b[0m \u001b[38;5;28;01melse\u001b[39;00m:\n\u001b[1;32m   6068\u001b[0m     keyarr, indexer, new_indexer \u001b[38;5;241m=\u001b[39m \u001b[38;5;28mself\u001b[39m\u001b[38;5;241m.\u001b[39m_reindex_non_unique(keyarr)\n\u001b[0;32m-> 6070\u001b[0m \u001b[38;5;28;43mself\u001b[39;49m\u001b[38;5;241;43m.\u001b[39;49m\u001b[43m_raise_if_missing\u001b[49m\u001b[43m(\u001b[49m\u001b[43mkeyarr\u001b[49m\u001b[43m,\u001b[49m\u001b[43m \u001b[49m\u001b[43mindexer\u001b[49m\u001b[43m,\u001b[49m\u001b[43m \u001b[49m\u001b[43maxis_name\u001b[49m\u001b[43m)\u001b[49m\n\u001b[1;32m   6072\u001b[0m keyarr \u001b[38;5;241m=\u001b[39m \u001b[38;5;28mself\u001b[39m\u001b[38;5;241m.\u001b[39mtake(indexer)\n\u001b[1;32m   6073\u001b[0m \u001b[38;5;28;01mif\u001b[39;00m \u001b[38;5;28misinstance\u001b[39m(key, Index):\n\u001b[1;32m   6074\u001b[0m     \u001b[38;5;66;03m# GH 42790 - Preserve name from an Index\u001b[39;00m\n",
      "File \u001b[0;32m~/opt/miniconda3/envs/d2l/lib/python3.10/site-packages/pandas/core/indexes/base.py:6133\u001b[0m, in \u001b[0;36mIndex._raise_if_missing\u001b[0;34m(self, key, indexer, axis_name)\u001b[0m\n\u001b[1;32m   6130\u001b[0m     \u001b[38;5;28;01mraise\u001b[39;00m \u001b[38;5;167;01mKeyError\u001b[39;00m(\u001b[38;5;124mf\u001b[39m\u001b[38;5;124m\"\u001b[39m\u001b[38;5;124mNone of [\u001b[39m\u001b[38;5;132;01m{\u001b[39;00mkey\u001b[38;5;132;01m}\u001b[39;00m\u001b[38;5;124m] are in the [\u001b[39m\u001b[38;5;132;01m{\u001b[39;00maxis_name\u001b[38;5;132;01m}\u001b[39;00m\u001b[38;5;124m]\u001b[39m\u001b[38;5;124m\"\u001b[39m)\n\u001b[1;32m   6132\u001b[0m not_found \u001b[38;5;241m=\u001b[39m \u001b[38;5;28mlist\u001b[39m(ensure_index(key)[missing_mask\u001b[38;5;241m.\u001b[39mnonzero()[\u001b[38;5;241m0\u001b[39m]]\u001b[38;5;241m.\u001b[39munique())\n\u001b[0;32m-> 6133\u001b[0m \u001b[38;5;28;01mraise\u001b[39;00m \u001b[38;5;167;01mKeyError\u001b[39;00m(\u001b[38;5;124mf\u001b[39m\u001b[38;5;124m\"\u001b[39m\u001b[38;5;132;01m{\u001b[39;00mnot_found\u001b[38;5;132;01m}\u001b[39;00m\u001b[38;5;124m not in index\u001b[39m\u001b[38;5;124m\"\u001b[39m)\n",
      "\u001b[0;31mKeyError\u001b[0m: \"['null'] not in index\""
     ]
    }
   ],
   "source": [
    "import pandas as pd\n",
    "\n",
    "datafile='./data/air_data.csv'\n",
    "\n",
    "result='explore.xlsx'\n",
    "\n",
    "data=pd.read_csv(datafile,encoding='utf-8')\n",
    "data.head()\n",
    "\n",
    "explore=data.describe(percentiles=[],include='all').T\n",
    "print(explore)\n",
    "\n",
    "explore1=explore[['null','max','min']]\n",
    "explore.column=[u'空值数',u'最大值',u'最小值']\n",
    "\n",
    "explore.to_excel(result)"
   ]
  },
  {
   "cell_type": "code",
   "execution_count": 43,
   "id": "f5d271db",
   "metadata": {},
   "outputs": [],
   "source": [
    "from __future__ import division\n",
    "from pandas import DataFrame,Series\n",
    "import pandas as pd\n",
    "\n",
    "datafile='./data/air_data.csv'\n",
    "data=pd.read_csv(datafile,encoding='utf-8')\n",
    "\n",
    "cleanedfile='cleaned.xlsx'\n",
    "\n",
    "data1=data[data['SUM_YR_1'].notnull()*data['SUM_YR_2'].notnull()]\n",
    "\n",
    "index1=data1['SUM_YR_1']!=0\n",
    "index2=data1['SUM_YR_2']!=0\n",
    "index3=(data1['SEG_KM_SUM']==0)&(data1['avg_discount']==0)\n",
    "data1=data1[index1|index2|index3]\n",
    "\n",
    "data1.to_excel(cleanedfile)\n",
    "data2=data1[['LOAD_TIME','FFP_DATE','LAST_TO_END','FLIGHT_COUNT','SEG_KM_SUM','avg_discount']]\n",
    "data2.to_excel('datadecrese.xlsx')"
   ]
  },
  {
   "cell_type": "code",
   "execution_count": 44,
   "id": "4f2b5a6f",
   "metadata": {},
   "outputs": [
    {
     "name": "stdout",
     "output_type": "stream",
     "text": [
      "0   2706 days\n",
      "1   2597 days\n",
      "2   2615 days\n",
      "3   2047 days\n",
      "4   1816 days\n",
      "Name: L1, dtype: timedelta64[ns]\n",
      "0    88.905316\n",
      "1    85.324134\n",
      "2    85.915522\n",
      "3    67.253948\n",
      "4    59.664469\n",
      "Name: L3, dtype: float64\n"
     ]
    }
   ],
   "source": [
    "import numpy as np\n",
    "data=pd.read_excel('./datadecrese.xlsx')\n",
    "\n",
    "data['L1']=pd.to_datetime(data['LOAD_TIME'])-pd.to_datetime(data[\"FFP_DATE\"])\n",
    "print(data['L1'].head())\n",
    "\n",
    "data['L3']=data['L1']/np.timedelta64(1,'M')\n",
    "print(data['L3'].head())"
   ]
  },
  {
   "cell_type": "code",
   "execution_count": 45,
   "id": "7a5a5c61",
   "metadata": {},
   "outputs": [
    {
     "name": "stdout",
     "output_type": "stream",
     "text": [
      "0   2706 days\n",
      "1   2597 days\n",
      "2   2615 days\n",
      "3   2047 days\n",
      "4   1816 days\n",
      "Name: L1, dtype: timedelta64[ns]\n"
     ]
    }
   ],
   "source": [
    "print(data['L1'].head())"
   ]
  },
  {
   "cell_type": "code",
   "execution_count": 46,
   "id": "821ced85",
   "metadata": {},
   "outputs": [],
   "source": [
    "data[\"L3\"]=data[\"L3\"].round(2)\n",
    "data['LAST_TO_END']=(data['LAST_TO_END']/30).round(2)\n",
    "data['avg_discount']=data['avg_discount'].round(2)\n",
    "\n",
    "data.drop('L1',axis=1,inplace=True)\n",
    "data.drop(data.columns[:3],axis=1,inplace=True)"
   ]
  },
  {
   "cell_type": "code",
   "execution_count": 47,
   "id": "4536b689",
   "metadata": {},
   "outputs": [
    {
     "name": "stdout",
     "output_type": "stream",
     "text": [
      "   LAST_TO_END  FLIGHT_COUNT  SEG_KM_SUM  avg_discount     L3\n",
      "0         0.03           210      580717          0.96  88.91\n",
      "1         0.23           140      293678          1.25  85.32\n",
      "2         0.37           135      283712          1.25  85.92\n",
      "3         3.23            23      281336          1.09  67.25\n",
      "4         0.17           152      309928          0.97  59.66\n"
     ]
    }
   ],
   "source": [
    "\n",
    "print(data.head())\n",
    "data=data.rename(columns={'LAST_TO_END':'R','FLIGHT_COUNT':'F',\n",
    "                     'SEG_KM_SUM':'M','avg_discount':'C','L3':'L'})"
   ]
  },
  {
   "cell_type": "code",
   "execution_count": 48,
   "id": "935c7075",
   "metadata": {},
   "outputs": [
    {
     "name": "stdout",
     "output_type": "stream",
     "text": [
      "      R    F       M     C      L\n",
      "0  0.03  210  580717  0.96  88.91\n",
      "1  0.23  140  293678  1.25  85.32\n",
      "2  0.37  135  283712  1.25  85.92\n",
      "3  3.23   23  281336  1.09  67.25\n",
      "4  0.17  152  309928  0.97  59.66\n"
     ]
    }
   ],
   "source": [
    "print(data.head())"
   ]
  },
  {
   "cell_type": "code",
   "execution_count": 51,
   "id": "6b8ee63b",
   "metadata": {},
   "outputs": [],
   "source": [
    "data.to_excel('./sxgz.xlsx',index=False)\n",
    "\n",
    "def f(x):\n",
    "    return Series([x.min(),x.max()],index=['min','max'])\n",
    "d=data.apply(f)\n",
    "d.to_excel('./summary_data.xlsx')"
   ]
  },
  {
   "cell_type": "code",
   "execution_count": 53,
   "id": "1f7e2ef3",
   "metadata": {},
   "outputs": [],
   "source": [
    "d1=pd.read_excel('./sxgz.xlsx')\n",
    "d1=d1.astype('float64')\n",
    "d2=(d1-d1.mean())/d1.std()\n",
    "d1=d2.iloc[:,[4,0,1,2,3]]\n",
    "d1.columns=['Z'+i for i in d1.columns]\n",
    "d1.to_excel('./sjbzh.xlsx',index=False)"
   ]
  },
  {
   "cell_type": "code",
   "execution_count": 1,
   "id": "b25000c2",
   "metadata": {},
   "outputs": [
    {
     "name": "stderr",
     "output_type": "stream",
     "text": [
      "/Users/yingmanji/opt/miniconda3/envs/d2l/lib/python3.10/site-packages/sklearn/cluster/_kmeans.py:870: FutureWarning: The default value of `n_init` will change from 10 to 'auto' in 1.4. Set the value of `n_init` explicitly to suppress the warning\n",
      "  warnings.warn(\n"
     ]
    }
   ],
   "source": [
    "import pandas as pd\n",
    "from pandas import DataFrame,Series\n",
    "from sklearn.cluster import KMeans\n",
    "# k=5\n",
    "k=4\n",
    "d3=pd.read_excel('sjbzh.xlsx')\n",
    "\n",
    "kmodel=KMeans(n_clusters=k)\n",
    "kmodel.fit(d3)\n",
    "\n",
    "labels=kmodel.labels_\n",
    "demo=DataFrame(labels,columns=['numbers'])\n",
    "demo1=DataFrame(kmodel.cluster_centers_,columns=d3.columns)\n",
    "demo2=demo['numbers'].value_counts()\n",
    "\n",
    "demo4=pd.concat([demo2,demo1],axis=1)\n",
    "demo4.index.name='labels'\n",
    "demo4.to_excel('kmeans_results.xlsx')\n"
   ]
  },
  {
   "cell_type": "code",
   "execution_count": 2,
   "id": "6988933a",
   "metadata": {},
   "outputs": [
    {
     "data": {
      "text/plain": [
       "1    26288\n",
       "0    17246\n",
       "3    12930\n",
       "2     5580\n",
       "Name: numbers, dtype: int64"
      ]
     },
     "execution_count": 2,
     "metadata": {},
     "output_type": "execute_result"
    }
   ],
   "source": [
    "demo2=demo['numbers'].value_counts()\n",
    "demo2"
   ]
  },
  {
   "cell_type": "code",
   "execution_count": 3,
   "id": "45ebbd64",
   "metadata": {},
   "outputs": [
    {
     "name": "stdout",
     "output_type": "stream",
     "text": [
      "[[ 1.14008975 -0.36387755 -0.0991142  -0.10785958  0.0943045 ]\n",
      " [-0.69557799 -0.40926871 -0.16932728 -0.16943478 -0.13156925]\n",
      " [ 0.47989632 -0.79606384  2.43136981  2.37531725  0.38133682]\n",
      " [-0.31192791  1.6588751  -0.57193322 -0.53591403 -0.02266018]]\n",
      "[2 2 2 ... 1 3 3]\n"
     ]
    }
   ],
   "source": [
    "print(kmodel.cluster_centers_)\n",
    "print(kmodel.labels_)"
   ]
  },
  {
   "cell_type": "code",
   "execution_count": null,
   "id": "44f12e55",
   "metadata": {},
   "outputs": [],
   "source": []
  }
 ],
 "metadata": {
  "kernelspec": {
   "display_name": "d2l",
   "language": "python",
   "name": "d2l"
  },
  "language_info": {
   "codemirror_mode": {
    "name": "ipython",
    "version": 3
   },
   "file_extension": ".py",
   "mimetype": "text/x-python",
   "name": "python",
   "nbconvert_exporter": "python",
   "pygments_lexer": "ipython3",
   "version": "3.10.4"
  }
 },
 "nbformat": 4,
 "nbformat_minor": 5
}
